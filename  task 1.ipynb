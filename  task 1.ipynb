{
 "cells": [
  {
   "cell_type": "code",
   "execution_count": 17,
   "id": "ff3c6167",
   "metadata": {},
   "outputs": [],
   "source": [
    "import datetime\n",
    "import json\n",
    "import requests"
   ]
  },
  {
   "cell_type": "markdown",
   "id": "9ce1c760",
   "metadata": {},
   "source": [
    "Using the api to get information about the block "
   ]
  },
  {
   "cell_type": "code",
   "execution_count": 6,
   "id": "f8fcd487",
   "metadata": {},
   "outputs": [],
   "source": [
    "api = requests.get(\"https://api.whatsonchain.com/v1/bsv/main/block/height/735843\")"
   ]
  },
  {
   "cell_type": "code",
   "execution_count": 7,
   "id": "bedd0bbe",
   "metadata": {},
   "outputs": [],
   "source": [
    "Block = json.loads(api.text) "
   ]
  },
  {
   "cell_type": "code",
   "execution_count": 11,
   "id": "ced6f84a",
   "metadata": {},
   "outputs": [
    {
     "name": "stdout",
     "output_type": "stream",
     "text": [
      "2998\n",
      "1650375606\n",
      "0.3056736100000004\n",
      "1259\n",
      "taal.com\n"
     ]
    }
   ],
   "source": [
    "print(Block[\"txcount\"])\n",
    "print(Block[\"time\"])\n",
    "print(Block[\"totalFees\"])\n",
    "print(Block[\"confirmations\"])\n",
    "print(Block[\"miner\"])"
   ]
  },
  {
   "cell_type": "markdown",
   "id": "a0b44941",
   "metadata": {},
   "source": [
    "txcount is the total number of unconfirmed transactions in the mempool. The mempool is where all valid transactions wait to be confirmed by the Bitcoin network.\n",
    "\n",
    "Time is when the transaction took place and under we are making it easy to read\n",
    "\n",
    "totalFees are the transaction cost you do have to pay to the mining network.\n",
    "\n",
    "In cryptocurrency, a confirmation is a measure of how many blocks have actually passed since a transaction was added to a blockchain.\n",
    "\n",
    "\n",
    "Miner is an actor who participates in cryptocurrency transactions, and in turn, plays a crucial role both in creating new cryptocurrencies and in verifying transactions on the blockchain\n",
    "In this case the miner is taal.com"
   ]
  },
  {
   "cell_type": "markdown",
   "id": "d17f8de2",
   "metadata": {},
   "source": [
    "Making so the it is easy to read the time"
   ]
  },
  {
   "cell_type": "code",
   "execution_count": 21,
   "id": "83180518",
   "metadata": {},
   "outputs": [],
   "source": [
    "time = datetime.datetime.fromtimestamp(Block[\"time\"])"
   ]
  },
  {
   "cell_type": "code",
   "execution_count": 22,
   "id": "2d4964a0",
   "metadata": {},
   "outputs": [
    {
     "name": "stdout",
     "output_type": "stream",
     "text": [
      "2022-04-19 15:40:06\n"
     ]
    }
   ],
   "source": [
    "print(time.strftime(\"%Y-%m-%d %H:%M:%S\"))"
   ]
  }
 ],
 "metadata": {
  "kernelspec": {
   "display_name": "Python 3 (ipykernel)",
   "language": "python",
   "name": "python3"
  },
  "language_info": {
   "codemirror_mode": {
    "name": "ipython",
    "version": 3
   },
   "file_extension": ".py",
   "mimetype": "text/x-python",
   "name": "python",
   "nbconvert_exporter": "python",
   "pygments_lexer": "ipython3",
   "version": "3.9.7"
  }
 },
 "nbformat": 4,
 "nbformat_minor": 5
}
