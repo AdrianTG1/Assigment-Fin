{
 "cells": [
  {
   "cell_type": "markdown",
   "id": "d6cb17e1",
   "metadata": {},
   "source": [
    "# Time Series Forecasting"
   ]
  },
  {
   "cell_type": "markdown",
   "id": "7bb25577",
   "metadata": {},
   "source": [
    "We are installing packages "
   ]
  },
  {
   "cell_type": "code",
   "execution_count": 1,
   "id": "8cad613b",
   "metadata": {},
   "outputs": [
    {
     "name": "stdout",
     "output_type": "stream",
     "text": [
      "Requirement already satisfied: sklearn in /Library/Frameworks/Python.framework/Versions/3.10/lib/python3.10/site-packages (0.0)\n",
      "Requirement already satisfied: scikit-learn in /Library/Frameworks/Python.framework/Versions/3.10/lib/python3.10/site-packages (from sklearn) (1.1.1)\n",
      "Requirement already satisfied: scipy>=1.3.2 in /Library/Frameworks/Python.framework/Versions/3.10/lib/python3.10/site-packages (from scikit-learn->sklearn) (1.9.0)\n",
      "Requirement already satisfied: threadpoolctl>=2.0.0 in /Library/Frameworks/Python.framework/Versions/3.10/lib/python3.10/site-packages (from scikit-learn->sklearn) (3.1.0)\n",
      "Requirement already satisfied: numpy>=1.17.3 in /Library/Frameworks/Python.framework/Versions/3.10/lib/python3.10/site-packages (from scikit-learn->sklearn) (1.22.0)\n",
      "Requirement already satisfied: joblib>=1.0.0 in /Library/Frameworks/Python.framework/Versions/3.10/lib/python3.10/site-packages (from scikit-learn->sklearn) (1.1.0)\n",
      "\u001b[33mWARNING: You are using pip version 21.2.4; however, version 22.2.1 is available.\n",
      "You should consider upgrading via the '/usr/local/bin/python3 -m pip install --upgrade pip' command.\u001b[0m\n",
      "Note: you may need to restart the kernel to use updated packages.\n"
     ]
    }
   ],
   "source": [
    "pip install sklearn"
   ]
  },
  {
   "cell_type": "code",
   "execution_count": 2,
   "id": "a68daa59",
   "metadata": {},
   "outputs": [
    {
     "name": "stdout",
     "output_type": "stream",
     "text": [
      "Requirement already satisfied: matplotlib in /Library/Frameworks/Python.framework/Versions/3.10/lib/python3.10/site-packages (3.5.2)\n",
      "Requirement already satisfied: pyparsing>=2.2.1 in /Library/Frameworks/Python.framework/Versions/3.10/lib/python3.10/site-packages (from matplotlib) (3.0.9)\n",
      "Requirement already satisfied: python-dateutil>=2.7 in /Library/Frameworks/Python.framework/Versions/3.10/lib/python3.10/site-packages (from matplotlib) (2.8.2)\n",
      "Requirement already satisfied: numpy>=1.17 in /Library/Frameworks/Python.framework/Versions/3.10/lib/python3.10/site-packages (from matplotlib) (1.22.0)\n",
      "Requirement already satisfied: fonttools>=4.22.0 in /Library/Frameworks/Python.framework/Versions/3.10/lib/python3.10/site-packages (from matplotlib) (4.34.4)\n",
      "Requirement already satisfied: kiwisolver>=1.0.1 in /Library/Frameworks/Python.framework/Versions/3.10/lib/python3.10/site-packages (from matplotlib) (1.4.4)\n",
      "Requirement already satisfied: pillow>=6.2.0 in /Library/Frameworks/Python.framework/Versions/3.10/lib/python3.10/site-packages (from matplotlib) (9.2.0)\n",
      "Requirement already satisfied: packaging>=20.0 in /Library/Frameworks/Python.framework/Versions/3.10/lib/python3.10/site-packages (from matplotlib) (21.3)\n",
      "Requirement already satisfied: cycler>=0.10 in /Library/Frameworks/Python.framework/Versions/3.10/lib/python3.10/site-packages (from matplotlib) (0.11.0)\n",
      "Requirement already satisfied: six>=1.5 in /Library/Frameworks/Python.framework/Versions/3.10/lib/python3.10/site-packages (from python-dateutil>=2.7->matplotlib) (1.16.0)\n",
      "\u001b[33mWARNING: You are using pip version 21.2.4; however, version 22.2.1 is available.\n",
      "You should consider upgrading via the '/usr/local/bin/python3 -m pip install --upgrade pip' command.\u001b[0m\n",
      "Note: you may need to restart the kernel to use updated packages.\n"
     ]
    }
   ],
   "source": [
    "pip install matplotlib"
   ]
  },
  {
   "cell_type": "code",
   "execution_count": 3,
   "id": "208f45a1",
   "metadata": {},
   "outputs": [
    {
     "name": "stdout",
     "output_type": "stream",
     "text": [
      "Requirement already satisfied: statsmodels in /Library/Frameworks/Python.framework/Versions/3.10/lib/python3.10/site-packages (0.13.0)\n",
      "Requirement already satisfied: patsy>=0.5.2 in /Library/Frameworks/Python.framework/Versions/3.10/lib/python3.10/site-packages (from statsmodels) (0.5.2)\n",
      "Requirement already satisfied: scipy>=1.3 in /Library/Frameworks/Python.framework/Versions/3.10/lib/python3.10/site-packages (from statsmodels) (1.9.0)\n",
      "Requirement already satisfied: numpy>=1.17 in /Library/Frameworks/Python.framework/Versions/3.10/lib/python3.10/site-packages (from statsmodels) (1.22.0)\n",
      "Requirement already satisfied: pandas>=0.25 in /Library/Frameworks/Python.framework/Versions/3.10/lib/python3.10/site-packages (from statsmodels) (1.4.0)\n",
      "Requirement already satisfied: python-dateutil>=2.8.1 in /Library/Frameworks/Python.framework/Versions/3.10/lib/python3.10/site-packages (from pandas>=0.25->statsmodels) (2.8.2)\n",
      "Requirement already satisfied: pytz>=2020.1 in /Library/Frameworks/Python.framework/Versions/3.10/lib/python3.10/site-packages (from pandas>=0.25->statsmodels) (2022.1)\n",
      "Requirement already satisfied: six in /Library/Frameworks/Python.framework/Versions/3.10/lib/python3.10/site-packages (from patsy>=0.5.2->statsmodels) (1.16.0)\n",
      "\u001b[33mWARNING: You are using pip version 21.2.4; however, version 22.2.1 is available.\n",
      "You should consider upgrading via the '/usr/local/bin/python3 -m pip install --upgrade pip' command.\u001b[0m\n",
      "Note: you may need to restart the kernel to use updated packages.\n"
     ]
    }
   ],
   "source": [
    "pip install statsmodels"
   ]
  },
  {
   "cell_type": "code",
   "execution_count": 4,
   "id": "668f1f85",
   "metadata": {},
   "outputs": [
    {
     "name": "stdout",
     "output_type": "stream",
     "text": [
      "Requirement already satisfied: pandas in /Library/Frameworks/Python.framework/Versions/3.10/lib/python3.10/site-packages (1.4.0)\n",
      "Requirement already satisfied: python-dateutil>=2.8.1 in /Library/Frameworks/Python.framework/Versions/3.10/lib/python3.10/site-packages (from pandas) (2.8.2)\n",
      "Requirement already satisfied: numpy>=1.21.0 in /Library/Frameworks/Python.framework/Versions/3.10/lib/python3.10/site-packages (from pandas) (1.22.0)\n",
      "Requirement already satisfied: pytz>=2020.1 in /Library/Frameworks/Python.framework/Versions/3.10/lib/python3.10/site-packages (from pandas) (2022.1)\n",
      "Requirement already satisfied: six>=1.5 in /Library/Frameworks/Python.framework/Versions/3.10/lib/python3.10/site-packages (from python-dateutil>=2.8.1->pandas) (1.16.0)\n",
      "\u001b[33mWARNING: You are using pip version 21.2.4; however, version 22.2.1 is available.\n",
      "You should consider upgrading via the '/usr/local/bin/python3 -m pip install --upgrade pip' command.\u001b[0m\n",
      "Note: you may need to restart the kernel to use updated packages.\n"
     ]
    }
   ],
   "source": [
    "pip install pandas"
   ]
  },
  {
   "cell_type": "code",
   "execution_count": 6,
   "id": "ddb79bce",
   "metadata": {},
   "outputs": [
    {
     "name": "stdout",
     "output_type": "stream",
     "text": [
      "Requirement already satisfied: cryptocompare in /Library/Frameworks/Python.framework/Versions/3.10/lib/python3.10/site-packages (0.7.5)\n",
      "Requirement already satisfied: requests in /Library/Frameworks/Python.framework/Versions/3.10/lib/python3.10/site-packages (from cryptocompare) (2.28.1)\n",
      "Requirement already satisfied: urllib3<1.27,>=1.21.1 in /Library/Frameworks/Python.framework/Versions/3.10/lib/python3.10/site-packages (from requests->cryptocompare) (1.26.11)\n",
      "Requirement already satisfied: idna<4,>=2.5 in /Library/Frameworks/Python.framework/Versions/3.10/lib/python3.10/site-packages (from requests->cryptocompare) (3.3)\n",
      "Requirement already satisfied: charset-normalizer<3,>=2 in /Library/Frameworks/Python.framework/Versions/3.10/lib/python3.10/site-packages (from requests->cryptocompare) (2.1.0)\n",
      "Requirement already satisfied: certifi>=2017.4.17 in /Library/Frameworks/Python.framework/Versions/3.10/lib/python3.10/site-packages (from requests->cryptocompare) (2022.6.15)\n",
      "\u001b[33mWARNING: You are using pip version 21.2.4; however, version 22.2.1 is available.\n",
      "You should consider upgrading via the '/usr/local/bin/python3 -m pip install --upgrade pip' command.\u001b[0m\n",
      "Note: you may need to restart the kernel to use updated packages.\n"
     ]
    }
   ],
   "source": [
    "pip install cryptocompare"
   ]
  },
  {
   "cell_type": "code",
   "execution_count": 5,
   "id": "a845562e",
   "metadata": {},
   "outputs": [
    {
     "name": "stdout",
     "output_type": "stream",
     "text": [
      "Requirement already satisfied: skforecast in /Library/Frameworks/Python.framework/Versions/3.10/lib/python3.10/site-packages (0.4.3)\n",
      "Requirement already satisfied: pandas<=1.4,>=1.2 in /Library/Frameworks/Python.framework/Versions/3.10/lib/python3.10/site-packages (from skforecast) (1.4.0)\n",
      "Requirement already satisfied: numpy<=1.22,>=1.20 in /Library/Frameworks/Python.framework/Versions/3.10/lib/python3.10/site-packages (from skforecast) (1.22.0)\n",
      "Requirement already satisfied: statsmodels<=0.13,>=0.12 in /Library/Frameworks/Python.framework/Versions/3.10/lib/python3.10/site-packages (from skforecast) (0.13.0)\n",
      "Requirement already satisfied: scikit-learn>=1.0 in /Library/Frameworks/Python.framework/Versions/3.10/lib/python3.10/site-packages (from skforecast) (1.1.1)\n",
      "Requirement already satisfied: tqdm<=4.62,>=4.57.0 in /Library/Frameworks/Python.framework/Versions/3.10/lib/python3.10/site-packages (from skforecast) (4.62.0)\n",
      "Requirement already satisfied: python-dateutil>=2.8.1 in /Library/Frameworks/Python.framework/Versions/3.10/lib/python3.10/site-packages (from pandas<=1.4,>=1.2->skforecast) (2.8.2)\n",
      "Requirement already satisfied: pytz>=2020.1 in /Library/Frameworks/Python.framework/Versions/3.10/lib/python3.10/site-packages (from pandas<=1.4,>=1.2->skforecast) (2022.1)\n",
      "Requirement already satisfied: six>=1.5 in /Library/Frameworks/Python.framework/Versions/3.10/lib/python3.10/site-packages (from python-dateutil>=2.8.1->pandas<=1.4,>=1.2->skforecast) (1.16.0)\n",
      "Requirement already satisfied: joblib>=1.0.0 in /Library/Frameworks/Python.framework/Versions/3.10/lib/python3.10/site-packages (from scikit-learn>=1.0->skforecast) (1.1.0)\n",
      "Requirement already satisfied: threadpoolctl>=2.0.0 in /Library/Frameworks/Python.framework/Versions/3.10/lib/python3.10/site-packages (from scikit-learn>=1.0->skforecast) (3.1.0)\n",
      "Requirement already satisfied: scipy>=1.3.2 in /Library/Frameworks/Python.framework/Versions/3.10/lib/python3.10/site-packages (from scikit-learn>=1.0->skforecast) (1.9.0)\n",
      "Requirement already satisfied: patsy>=0.5.2 in /Library/Frameworks/Python.framework/Versions/3.10/lib/python3.10/site-packages (from statsmodels<=0.13,>=0.12->skforecast) (0.5.2)\n",
      "\u001b[33mWARNING: You are using pip version 21.2.4; however, version 22.2.1 is available.\n",
      "You should consider upgrading via the '/usr/local/bin/python3 -m pip install --upgrade pip' command.\u001b[0m\n",
      "Note: you may need to restart the kernel to use updated packages.\n"
     ]
    }
   ],
   "source": [
    "pip install skforecast"
   ]
  },
  {
   "cell_type": "markdown",
   "id": "f4de5691",
   "metadata": {},
   "source": [
    "We are importing different packages "
   ]
  },
  {
   "cell_type": "code",
   "execution_count": 7,
   "id": "73a47f75",
   "metadata": {},
   "outputs": [
    {
     "name": "stderr",
     "output_type": "stream",
     "text": [
      "/Library/Frameworks/Python.framework/Versions/3.10/lib/python3.10/site-packages/statsmodels/compat/pandas.py:61: FutureWarning: pandas.Int64Index is deprecated and will be removed from pandas in a future version. Use pandas.Index with the appropriate dtype instead.\n",
      "  from pandas import Int64Index as NumericIndex\n"
     ]
    }
   ],
   "source": [
    "import pandas as pd \n",
    "import matplotlib.pyplot as plt\n",
    "import cryptocompare\n",
    "import datetime\n",
    "import numpy as np\n",
    "import statsmodels\n",
    "import sklearn\n",
    "from pandas import DataFrame as df\n",
    "\n",
    "from statsmodels.graphics.tsaplots import plot_acf\n",
    "from statsmodels.graphics.tsaplots import plot_acf\n",
    "from statsmodels.tsa.stattools import adfuller\n",
    "from sklearn.model_selection import train_test_split, cross_val_score\n",
    "from skforecast.ForecasterAutoreg import ForecasterAutoreg\n",
    "from sklearn.ensemble import RandomForestRegressor\n",
    "from sklearn.metrics import mean_squared_error,r2_score\n",
    "from sklearn.linear_model import Ridge, Lasso, ElasticNet\n",
    "from sklearn import model_selection\n",
    "from sklearn.linear_model import RidgeCV, LassoCV,ElasticNetCV\n",
    "from statsmodels.tsa.stattools import adfuller\n",
    "\n"
   ]
  },
  {
   "cell_type": "markdown",
   "id": "9f8d2ca4",
   "metadata": {},
   "source": [
    "# First stage"
   ]
  },
  {
   "cell_type": "markdown",
   "id": "9a1230d9",
   "metadata": {},
   "source": [
    "We are getting the api key from crypto compare. We have decided to gather historical data from Ethereum. We have decided on this asset because it is one of the biggest cryptocurrencies out there, whit the second highest market cap. Experts also anticipate that this cryptocurrencie will have one of the largest growth rates out of all the cryptocurrencies in the coming years."
   ]
  },
  {
   "cell_type": "markdown",
   "id": "ab35c71c",
   "metadata": {},
   "source": [
    "Ethereum is affected by market supply and demand for cryptocurrency. Markets for cryptocurrencies feature order books with buy and sell orders, just like stock exchanges do. The price of Ethereum will rise as demand rises, while the price will fall as sell order supply rises."
   ]
  },
  {
   "cell_type": "markdown",
   "id": "2212dbbf",
   "metadata": {},
   "source": [
    "The collapse of the cryptocurrency market is to blame for Ethereum's recent decline. But there are also additional reasons why it is dwindling more quickly. Another factor is the delayed uptake of the Ethereum blockchain. Ethereum is losing users because of its high gas fee and slow chain."
   ]
  },
  {
   "cell_type": "markdown",
   "id": "19936b43",
   "metadata": {},
   "source": [
    "The Eth1/Eth2 upgrades, which are scheduled for Berlin (April), Altair (June), London (July), and Shanghai (the second part of 2021), as well as capacity expansion and sharding, are among the significant Ethereum events that happend in 2021."
   ]
  },
  {
   "cell_type": "markdown",
   "id": "60af0cc1",
   "metadata": {},
   "source": [
    "We should be able to obtain the historical data for Ethereum through an API key. We cannot obtain variables for other applications on Ethereum like NFTs and DeFi, to see how they affect the price."
   ]
  },
  {
   "cell_type": "markdown",
   "id": "607791b1",
   "metadata": {},
   "source": [
    "# Second stage"
   ]
  },
  {
   "cell_type": "code",
   "execution_count": 8,
   "id": "84aa1a86",
   "metadata": {},
   "outputs": [
    {
     "data": {
      "text/plain": [
       "'&api_key=49a839b5b7395a830c0a3a61819d8a657950ef22ae68d5e6c1364ccc60117584'"
      ]
     },
     "execution_count": 8,
     "metadata": {},
     "output_type": "execute_result"
    }
   ],
   "source": [
    "cryptocompare.cryptocompare._set_api_key_parameter('49a839b5b7395a830c0a3a61819d8a657950ef22ae68d5e6c1364ccc60117584')"
   ]
  },
  {
   "cell_type": "code",
   "execution_count": 9,
   "id": "36f2d386",
   "metadata": {},
   "outputs": [
    {
     "data": {
      "text/plain": [
       "[{'time': 1645747200,\n",
       "  'high': 2515.73,\n",
       "  'low': 2303.09,\n",
       "  'open': 2319.69,\n",
       "  'volumefrom': 74295.57,\n",
       "  'volumeto': 177572421.41,\n",
       "  'close': 2456.33,\n",
       "  'conversionType': 'direct',\n",
       "  'conversionSymbol': ''},\n",
       " {'time': 1645833600,\n",
       "  'high': 2502.79,\n",
       "  'low': 2449.66,\n",
       "  'open': 2457.35,\n",
       "  'volumefrom': 114359.28,\n",
       "  'volumeto': 282246374.13,\n",
       "  'close': 2468.07,\n",
       "  'conversionType': 'multiply',\n",
       "  'conversionSymbol': 'BTC'},\n",
       " {'time': 1645920000,\n",
       "  'high': 2516.53,\n",
       "  'low': 2295.23,\n",
       "  'open': 2467.68,\n",
       "  'volumefrom': 94262.88,\n",
       "  'volumeto': 226069464.41,\n",
       "  'close': 2341.5,\n",
       "  'conversionType': 'direct',\n",
       "  'conversionSymbol': ''},\n",
       " {'time': 1646006400,\n",
       "  'high': 2621.38,\n",
       "  'low': 2305.96,\n",
       "  'open': 2341.5,\n",
       "  'volumefrom': 100133.52,\n",
       "  'volumeto': 243933141.76,\n",
       "  'close': 2606.4,\n",
       "  'conversionType': 'direct',\n",
       "  'conversionSymbol': ''},\n",
       " {'time': 1646092800,\n",
       "  'high': 2723.9,\n",
       "  'low': 2557.71,\n",
       "  'open': 2606.4,\n",
       "  'volumefrom': 91898.1,\n",
       "  'volumeto': 242624719.51,\n",
       "  'close': 2673.69,\n",
       "  'conversionType': 'direct',\n",
       "  'conversionSymbol': ''},\n",
       " {'time': 1646179200,\n",
       "  'high': 2736.11,\n",
       "  'low': 2621.73,\n",
       "  'open': 2673.69,\n",
       "  'volumefrom': 72731.17,\n",
       "  'volumeto': 194939494.79,\n",
       "  'close': 2653.27,\n",
       "  'conversionType': 'direct',\n",
       "  'conversionSymbol': ''},\n",
       " {'time': 1646265600,\n",
       "  'high': 2587.41,\n",
       "  'low': 2531.77,\n",
       "  'open': 2653.42,\n",
       "  'volumefrom': 127204.53,\n",
       "  'volumeto': 325859763.75,\n",
       "  'close': 2561.7,\n",
       "  'conversionType': 'multiply',\n",
       "  'conversionSymbol': 'BTC'},\n",
       " {'time': 1646352000,\n",
       "  'high': 2404.03,\n",
       "  'low': 2339.55,\n",
       "  'open': 2561.7,\n",
       "  'volumefrom': 158999.27,\n",
       "  'volumeto': 381497804.47,\n",
       "  'close': 2399.37,\n",
       "  'conversionType': 'multiply',\n",
       "  'conversionSymbol': 'BTC'},\n",
       " {'time': 1646438400,\n",
       "  'high': 2452.19,\n",
       "  'low': 2367.79,\n",
       "  'open': 2399.37,\n",
       "  'volumefrom': 101172.88,\n",
       "  'volumeto': 246890671.67,\n",
       "  'close': 2440.29,\n",
       "  'conversionType': 'multiply',\n",
       "  'conversionSymbol': 'BTC'},\n",
       " {'time': 1646524800,\n",
       "  'high': 2406.01,\n",
       "  'low': 2346.3,\n",
       "  'open': 2440.29,\n",
       "  'volumefrom': 105969.19,\n",
       "  'volumeto': 248673143.44,\n",
       "  'close': 2346.66,\n",
       "  'conversionType': 'multiply',\n",
       "  'conversionSymbol': 'BTC'},\n",
       " {'time': 1646611200,\n",
       "  'high': 2361.64,\n",
       "  'low': 2288.12,\n",
       "  'open': 2346.66,\n",
       "  'volumefrom': 161205.15,\n",
       "  'volumeto': 370154767.23,\n",
       "  'close': 2296.17,\n",
       "  'conversionType': 'multiply',\n",
       "  'conversionSymbol': 'BTC'},\n",
       " {'time': 1646697600,\n",
       "  'high': 2373.5,\n",
       "  'low': 2329.75,\n",
       "  'open': 2296.17,\n",
       "  'volumefrom': 194646.7,\n",
       "  'volumeto': 460540564.2,\n",
       "  'close': 2366.03,\n",
       "  'conversionType': 'multiply',\n",
       "  'conversionSymbol': 'BTC'},\n",
       " {'time': 1646784000,\n",
       "  'high': 2533.56,\n",
       "  'low': 2430.11,\n",
       "  'open': 2366.03,\n",
       "  'volumefrom': 219676.64,\n",
       "  'volumeto': 541414562.07,\n",
       "  'close': 2464.6,\n",
       "  'conversionType': 'multiply',\n",
       "  'conversionSymbol': 'BTC'},\n",
       " {'time': 1646870400,\n",
       "  'high': 2384.97,\n",
       "  'low': 2318.32,\n",
       "  'open': 2464.6,\n",
       "  'volumefrom': 147668.4,\n",
       "  'volumeto': 349856257.1,\n",
       "  'close': 2369.2,\n",
       "  'conversionType': 'multiply',\n",
       "  'conversionSymbol': 'BTC'},\n",
       " {'time': 1646956800,\n",
       "  'high': 2373.58,\n",
       "  'low': 2336.99,\n",
       "  'open': 2369.2,\n",
       "  'volumefrom': 144584.4,\n",
       "  'volumeto': 339022735.9,\n",
       "  'close': 2344.81,\n",
       "  'conversionType': 'multiply',\n",
       "  'conversionSymbol': 'BTC'},\n",
       " {'time': 1647043200,\n",
       "  'high': 2367.88,\n",
       "  'low': 2345.09,\n",
       "  'open': 2344.81,\n",
       "  'volumefrom': 70044.16,\n",
       "  'volumeto': 165107626.76,\n",
       "  'close': 2357.19,\n",
       "  'conversionType': 'multiply',\n",
       "  'conversionSymbol': 'BTC'},\n",
       " {'time': 1647129600,\n",
       "  'high': 2309.3,\n",
       "  'low': 2277.09,\n",
       "  'open': 2357.19,\n",
       "  'volumefrom': 112178.38,\n",
       "  'volumeto': 258782077.41,\n",
       "  'close': 2306.88,\n",
       "  'conversionType': 'multiply',\n",
       "  'conversionSymbol': 'BTC'},\n",
       " {'time': 1647216000,\n",
       "  'high': 2433.9,\n",
       "  'low': 2356.99,\n",
       "  'open': 2306.88,\n",
       "  'volumefrom': 156900.58,\n",
       "  'volumeto': 371747800.15,\n",
       "  'close': 2369.32,\n",
       "  'conversionType': 'multiply',\n",
       "  'conversionSymbol': 'BTC'},\n",
       " {'time': 1647302400,\n",
       "  'high': 2402.56,\n",
       "  'low': 2339.1,\n",
       "  'open': 2369.32,\n",
       "  'volumefrom': 175325.87,\n",
       "  'volumeto': 418905849.56,\n",
       "  'close': 2389.3,\n",
       "  'conversionType': 'multiply',\n",
       "  'conversionSymbol': 'BTC'},\n",
       " {'time': 1647388800,\n",
       "  'high': 2518.39,\n",
       "  'low': 2445.63,\n",
       "  'open': 2389.3,\n",
       "  'volumefrom': 191421.28,\n",
       "  'volumeto': 481859413.76,\n",
       "  'close': 2517.27,\n",
       "  'conversionType': 'multiply',\n",
       "  'conversionSymbol': 'BTC'},\n",
       " {'time': 1647475200,\n",
       "  'high': 2557.38,\n",
       "  'low': 2471.77,\n",
       "  'open': 2517.27,\n",
       "  'volumefrom': 150742.42,\n",
       "  'volumeto': 382391175.09,\n",
       "  'close': 2536.72,\n",
       "  'conversionType': 'multiply',\n",
       "  'conversionSymbol': 'BTC'},\n",
       " {'time': 1647561600,\n",
       "  'high': 2681.46,\n",
       "  'low': 2582.79,\n",
       "  'open': 2536.72,\n",
       "  'volumefrom': 190769.03,\n",
       "  'volumeto': 507789149.61,\n",
       "  'close': 2661.8,\n",
       "  'conversionType': 'multiply',\n",
       "  'conversionSymbol': 'BTC'},\n",
       " {'time': 1647648000,\n",
       "  'high': 2712.64,\n",
       "  'low': 2653.43,\n",
       "  'open': 2661.8,\n",
       "  'volumefrom': 122393.98,\n",
       "  'volumeto': 326868100.7,\n",
       "  'close': 2670.62,\n",
       "  'conversionType': 'multiply',\n",
       "  'conversionSymbol': 'BTC'},\n",
       " {'time': 1647734400,\n",
       "  'high': 2619.1,\n",
       "  'low': 2572.76,\n",
       "  'open': 2670.62,\n",
       "  'volumefrom': 95339.53,\n",
       "  'volumeto': 247103129.89,\n",
       "  'close': 2591.82,\n",
       "  'conversionType': 'multiply',\n",
       "  'conversionSymbol': 'BTC'},\n",
       " {'time': 1647820800,\n",
       "  'high': 2675,\n",
       "  'low': 2576.64,\n",
       "  'open': 2591.82,\n",
       "  'volumefrom': 143259.57,\n",
       "  'volumeto': 376334237.18,\n",
       "  'close': 2626.94,\n",
       "  'conversionType': 'multiply',\n",
       "  'conversionSymbol': 'BTC'},\n",
       " {'time': 1647907200,\n",
       "  'high': 2743.31,\n",
       "  'low': 2688.74,\n",
       "  'open': 2626.94,\n",
       "  'volumefrom': 162879.23,\n",
       "  'volumeto': 438754363.96,\n",
       "  'close': 2693.74,\n",
       "  'conversionType': 'multiply',\n",
       "  'conversionSymbol': 'BTC'},\n",
       " {'time': 1647993600,\n",
       "  'high': 2775.94,\n",
       "  'low': 2718.64,\n",
       "  'open': 2693.74,\n",
       "  'volumefrom': 135411.69,\n",
       "  'volumeto': 373467144.84,\n",
       "  'close': 2758.01,\n",
       "  'conversionType': 'multiply',\n",
       "  'conversionSymbol': 'BTC'},\n",
       " {'time': 1648080000,\n",
       "  'high': 2852.63,\n",
       "  'low': 2811.45,\n",
       "  'open': 2758.01,\n",
       "  'volumefrom': 171886.94,\n",
       "  'volumeto': 485863112.62,\n",
       "  'close': 2826.64,\n",
       "  'conversionType': 'multiply',\n",
       "  'conversionSymbol': 'BTC'},\n",
       " {'time': 1648166400,\n",
       "  'high': 2882.12,\n",
       "  'low': 2817.54,\n",
       "  'open': 2826.64,\n",
       "  'volumefrom': 199797.27,\n",
       "  'volumeto': 564791013.79,\n",
       "  'close': 2826.82,\n",
       "  'conversionType': 'multiply',\n",
       "  'conversionSymbol': 'BTC'},\n",
       " {'time': 1648252800,\n",
       "  'high': 2870.7,\n",
       "  'low': 2833.37,\n",
       "  'open': 2826.82,\n",
       "  'volumefrom': 62519.77,\n",
       "  'volumeto': 179196173.41,\n",
       "  'close': 2866.23,\n",
       "  'conversionType': 'multiply',\n",
       "  'conversionSymbol': 'BTC'},\n",
       " {'time': 1648339200,\n",
       "  'high': 3025.49,\n",
       "  'low': 2979,\n",
       "  'open': 2866.23,\n",
       "  'volumefrom': 114464.34,\n",
       "  'volumeto': 343576487.75,\n",
       "  'close': 3001.6,\n",
       "  'conversionType': 'multiply',\n",
       "  'conversionSymbol': 'BTC'},\n",
       " {'time': 1648425600,\n",
       "  'high': 3059.22,\n",
       "  'low': 2993.21,\n",
       "  'open': 3001.6,\n",
       "  'volumefrom': 143221.6,\n",
       "  'volumeto': 434155688.57,\n",
       "  'close': 3031.36,\n",
       "  'conversionType': 'multiply',\n",
       "  'conversionSymbol': 'BTC'},\n",
       " {'time': 1648512000,\n",
       "  'high': 3102.56,\n",
       "  'low': 3024.7,\n",
       "  'open': 3031.36,\n",
       "  'volumefrom': 156555.79,\n",
       "  'volumeto': 480298981.44,\n",
       "  'close': 3067.91,\n",
       "  'conversionType': 'multiply',\n",
       "  'conversionSymbol': 'BTC'},\n",
       " {'time': 1648598400,\n",
       "  'high': 3046.52,\n",
       "  'low': 3002.67,\n",
       "  'open': 3067.91,\n",
       "  'volumefrom': 105438.25,\n",
       "  'volumeto': 319708366.96,\n",
       "  'close': 3032.19,\n",
       "  'conversionType': 'multiply',\n",
       "  'conversionSymbol': 'BTC'},\n",
       " {'time': 1648684800,\n",
       "  'high': 2982.31,\n",
       "  'low': 2942.02,\n",
       "  'open': 3032.19,\n",
       "  'volumefrom': 106902.1,\n",
       "  'volumeto': 316925265.94,\n",
       "  'close': 2964.63,\n",
       "  'conversionType': 'multiply',\n",
       "  'conversionSymbol': 'BTC'},\n",
       " {'time': 1648771200,\n",
       "  'high': 3139.33,\n",
       "  'low': 3020.7,\n",
       "  'open': 2964.63,\n",
       "  'volumefrom': 162848.02,\n",
       "  'volumeto': 509594778.75,\n",
       "  'close': 3129.27,\n",
       "  'conversionType': 'multiply',\n",
       "  'conversionSymbol': 'BTC'},\n",
       " {'time': 1648857600,\n",
       "  'high': 3141.98,\n",
       "  'low': 3085.97,\n",
       "  'open': 3129.27,\n",
       "  'volumefrom': 143326.48,\n",
       "  'volumeto': 447058375.74,\n",
       "  'close': 3119.16,\n",
       "  'conversionType': 'multiply',\n",
       "  'conversionSymbol': 'BTC'},\n",
       " {'time': 1648944000,\n",
       "  'high': 3192.58,\n",
       "  'low': 3148.01,\n",
       "  'open': 3119.16,\n",
       "  'volumefrom': 117769.19,\n",
       "  'volumeto': 375640699.41,\n",
       "  'close': 3189.63,\n",
       "  'conversionType': 'multiply',\n",
       "  'conversionSymbol': 'BTC'},\n",
       " {'time': 1649030400,\n",
       "  'high': 3234.34,\n",
       "  'low': 3183.8,\n",
       "  'open': 3189.63,\n",
       "  'volumefrom': 154627.72,\n",
       "  'volumeto': 496046580.17,\n",
       "  'close': 3208.01,\n",
       "  'conversionType': 'multiply',\n",
       "  'conversionSymbol': 'BTC'},\n",
       " {'time': 1649116800,\n",
       "  'high': 3158.19,\n",
       "  'low': 3120.21,\n",
       "  'open': 3208.01,\n",
       "  'volumefrom': 129974.04,\n",
       "  'volumeto': 406143082.33,\n",
       "  'close': 3124.8,\n",
       "  'conversionType': 'multiply',\n",
       "  'conversionSymbol': 'BTC'},\n",
       " {'time': 1649203200,\n",
       "  'high': 2968.67,\n",
       "  'low': 2898.52,\n",
       "  'open': 3124.8,\n",
       "  'volumefrom': 214849.14,\n",
       "  'volumeto': 625128888.44,\n",
       "  'close': 2909.62,\n",
       "  'conversionType': 'multiply',\n",
       "  'conversionSymbol': 'BTC'},\n",
       " {'time': 1649289600,\n",
       "  'high': 2979.41,\n",
       "  'low': 2931.01,\n",
       "  'open': 2909.62,\n",
       "  'volumefrom': 133788.09,\n",
       "  'volumeto': 397538945.93,\n",
       "  'close': 2971.41,\n",
       "  'conversionType': 'multiply',\n",
       "  'conversionSymbol': 'BTC'},\n",
       " {'time': 1649376000,\n",
       "  'high': 2955.66,\n",
       "  'low': 2887.2,\n",
       "  'open': 2971.41,\n",
       "  'volumefrom': 159588.7,\n",
       "  'volumeto': 468896174.64,\n",
       "  'close': 2938.15,\n",
       "  'conversionType': 'multiply',\n",
       "  'conversionSymbol': 'BTC'},\n",
       " {'time': 1649462400,\n",
       "  'high': 3013.01,\n",
       "  'low': 2968.13,\n",
       "  'open': 2938.15,\n",
       "  'volumefrom': 78692.29,\n",
       "  'volumeto': 236109390.17,\n",
       "  'close': 3000.41,\n",
       "  'conversionType': 'multiply',\n",
       "  'conversionSymbol': 'BTC'},\n",
       " {'time': 1649548800,\n",
       "  'high': 2973.46,\n",
       "  'low': 2940.53,\n",
       "  'open': 3000.41,\n",
       "  'volumefrom': 83886.07,\n",
       "  'volumeto': 246929749.87,\n",
       "  'close': 2943.63,\n",
       "  'conversionType': 'multiply',\n",
       "  'conversionSymbol': 'BTC'},\n",
       " {'time': 1649635200,\n",
       "  'high': 2763.41,\n",
       "  'low': 2668.94,\n",
       "  'open': 2943.63,\n",
       "  'volumefrom': 225663.33,\n",
       "  'volumeto': 618188690.82,\n",
       "  'close': 2739.43,\n",
       "  'conversionType': 'multiply',\n",
       "  'conversionSymbol': 'BTC'},\n",
       " {'time': 1649721600,\n",
       "  'high': 2814.7,\n",
       "  'low': 2777.29,\n",
       "  'open': 2739.43,\n",
       "  'volumefrom': 149750.12,\n",
       "  'volumeto': 419060502.57,\n",
       "  'close': 2798.4,\n",
       "  'conversionType': 'multiply',\n",
       "  'conversionSymbol': 'BTC'},\n",
       " {'time': 1649808000,\n",
       "  'high': 2883.7,\n",
       "  'low': 2831.56,\n",
       "  'open': 2798.4,\n",
       "  'volumefrom': 152277.19,\n",
       "  'volumeto': 435957397.69,\n",
       "  'close': 2862.92,\n",
       "  'conversionType': 'multiply',\n",
       "  'conversionSymbol': 'BTC'},\n",
       " {'time': 1649894400,\n",
       "  'high': 2803.72,\n",
       "  'low': 2767.16,\n",
       "  'open': 2862.92,\n",
       "  'volumefrom': 141770.06,\n",
       "  'volumeto': 396070206.85,\n",
       "  'close': 2793.75,\n",
       "  'conversionType': 'multiply',\n",
       "  'conversionSymbol': 'BTC'},\n",
       " {'time': 1649980800,\n",
       "  'high': 2846.49,\n",
       "  'low': 2809.3,\n",
       "  'open': 2793.75,\n",
       "  'volumefrom': 102129.69,\n",
       "  'volumeto': 287794922.43,\n",
       "  'close': 2817.94,\n",
       "  'conversionType': 'multiply',\n",
       "  'conversionSymbol': 'BTC'},\n",
       " {'time': 1650067200,\n",
       "  'high': 2839.03,\n",
       "  'low': 2802.37,\n",
       "  'open': 2817.94,\n",
       "  'volumefrom': 77655.64,\n",
       "  'volumeto': 220146934.48,\n",
       "  'close': 2834.91,\n",
       "  'conversionType': 'multiply',\n",
       "  'conversionSymbol': 'BTC'},\n",
       " {'time': 1650153600,\n",
       "  'high': 2803.8,\n",
       "  'low': 2763.39,\n",
       "  'open': 2834.91,\n",
       "  'volumefrom': 152625.26,\n",
       "  'volumeto': 422099570.83,\n",
       "  'close': 2765.59,\n",
       "  'conversionType': 'multiply',\n",
       "  'conversionSymbol': 'BTC'},\n",
       " {'time': 1650240000,\n",
       "  'high': 2857.22,\n",
       "  'low': 2790.51,\n",
       "  'open': 2765.59,\n",
       "  'volumefrom': 177432.24,\n",
       "  'volumeto': 503734490.18,\n",
       "  'close': 2839.02,\n",
       "  'conversionType': 'multiply',\n",
       "  'conversionSymbol': 'BTC'},\n",
       " {'time': 1650326400,\n",
       "  'high': 2895.25,\n",
       "  'low': 2866.4,\n",
       "  'open': 2839.02,\n",
       "  'volumefrom': 124016.21,\n",
       "  'volumeto': 356720130.16,\n",
       "  'close': 2876.4,\n",
       "  'conversionType': 'multiply',\n",
       "  'conversionSymbol': 'BTC'},\n",
       " {'time': 1650412800,\n",
       "  'high': 2863.3,\n",
       "  'low': 2829.35,\n",
       "  'open': 2876.4,\n",
       "  'volumefrom': 127695.41,\n",
       "  'volumeto': 362415237.21,\n",
       "  'close': 2838.12,\n",
       "  'conversionType': 'multiply',\n",
       "  'conversionSymbol': 'BTC'},\n",
       " {'time': 1650499200,\n",
       "  'high': 2783.18,\n",
       "  'low': 2741.68,\n",
       "  'open': 2838.12,\n",
       "  'volumefrom': 160787.74,\n",
       "  'volumeto': 443112952.4,\n",
       "  'close': 2755.89,\n",
       "  'conversionType': 'multiply',\n",
       "  'conversionSymbol': 'BTC'},\n",
       " {'time': 1650585600,\n",
       "  'high': 2768.27,\n",
       "  'low': 2713.77,\n",
       "  'open': 2755.89,\n",
       "  'volumefrom': 124511.04,\n",
       "  'volumeto': 342020529.25,\n",
       "  'close': 2746.91,\n",
       "  'conversionType': 'multiply',\n",
       "  'conversionSymbol': 'BTC'},\n",
       " {'time': 1650672000,\n",
       "  'high': 2740.91,\n",
       "  'low': 2712.01,\n",
       "  'open': 2746.91,\n",
       "  'volumefrom': 71212.55,\n",
       "  'volumeto': 193780129.49,\n",
       "  'close': 2721.15,\n",
       "  'conversionType': 'multiply',\n",
       "  'conversionSymbol': 'BTC'},\n",
       " {'time': 1650758400,\n",
       "  'high': 2729.43,\n",
       "  'low': 2701.67,\n",
       "  'open': 2721.15,\n",
       "  'volumefrom': 75699.26,\n",
       "  'volumeto': 204735583.6,\n",
       "  'close': 2704.59,\n",
       "  'conversionType': 'multiply',\n",
       "  'conversionSymbol': 'BTC'},\n",
       " {'time': 1650844800,\n",
       "  'high': 2831,\n",
       "  'low': 2751.73,\n",
       "  'open': 2704.59,\n",
       "  'volumefrom': 296408.29,\n",
       "  'volumeto': 832083455.21,\n",
       "  'close': 2807.22,\n",
       "  'conversionType': 'multiply',\n",
       "  'conversionSymbol': 'BTC'},\n",
       " {'time': 1650931200,\n",
       "  'high': 2683.75,\n",
       "  'low': 2627.83,\n",
       "  'open': 2807.22,\n",
       "  'volumefrom': 168520.47,\n",
       "  'volumeto': 445319199.07,\n",
       "  'close': 2642.52,\n",
       "  'conversionType': 'multiply',\n",
       "  'conversionSymbol': 'BTC'},\n",
       " {'time': 1651017600,\n",
       "  'high': 2767.82,\n",
       "  'low': 2722.1,\n",
       "  'open': 2642.52,\n",
       "  'volumefrom': 141467.72,\n",
       "  'volumeto': 387192793.27,\n",
       "  'close': 2736.97,\n",
       "  'conversionType': 'multiply',\n",
       "  'conversionSymbol': 'BTC'},\n",
       " {'time': 1651104000,\n",
       "  'high': 2806.9,\n",
       "  'low': 2762.62,\n",
       "  'open': 2736.97,\n",
       "  'volumefrom': 170312.26,\n",
       "  'volumeto': 476373915.16,\n",
       "  'close': 2797.06,\n",
       "  'conversionType': 'multiply',\n",
       "  'conversionSymbol': 'BTC'},\n",
       " {'time': 1651190400,\n",
       "  'high': 2713.7,\n",
       "  'low': 2660.97,\n",
       "  'open': 2797.06,\n",
       "  'volumefrom': 134272.52,\n",
       "  'volumeto': 358819283.86,\n",
       "  'close': 2672.32,\n",
       "  'conversionType': 'multiply',\n",
       "  'conversionSymbol': 'BTC'},\n",
       " {'time': 1651276800,\n",
       "  'high': 2627.12,\n",
       "  'low': 2584.2,\n",
       "  'open': 2672.32,\n",
       "  'volumefrom': 101534.63,\n",
       "  'volumeto': 263076190.34,\n",
       "  'close': 2591,\n",
       "  'conversionType': 'multiply',\n",
       "  'conversionSymbol': 'BTC'},\n",
       " {'time': 1651363200,\n",
       "  'high': 2690.86,\n",
       "  'low': 2643.04,\n",
       "  'open': 2591,\n",
       "  'volumefrom': 126433.95,\n",
       "  'volumeto': 339061987.74,\n",
       "  'close': 2681.73,\n",
       "  'conversionType': 'multiply',\n",
       "  'conversionSymbol': 'BTC'},\n",
       " {'time': 1651449600,\n",
       "  'high': 2725.72,\n",
       "  'low': 2653.14,\n",
       "  'open': 2681.73,\n",
       "  'volumefrom': 241551.8,\n",
       "  'volumeto': 656808646.75,\n",
       "  'close': 2719.12,\n",
       "  'conversionType': 'multiply',\n",
       "  'conversionSymbol': 'BTC'},\n",
       " {'time': 1651536000,\n",
       "  'high': 2663.52,\n",
       "  'low': 2634.1,\n",
       "  'open': 2719.12,\n",
       "  'volumefrom': 138597.63,\n",
       "  'volumeto': 366622150.5,\n",
       "  'close': 2645.23,\n",
       "  'conversionType': 'multiply',\n",
       "  'conversionSymbol': 'BTC'},\n",
       " {'time': 1651622400,\n",
       "  'high': 2776.4,\n",
       "  'low': 2718.47,\n",
       "  'open': 2645.23,\n",
       "  'volumefrom': 161381.58,\n",
       "  'volumeto': 446792552.43,\n",
       "  'close': 2768.55,\n",
       "  'conversionType': 'multiply',\n",
       "  'conversionSymbol': 'BTC'},\n",
       " {'time': 1651708800,\n",
       "  'high': 2625.88,\n",
       "  'low': 2563.42,\n",
       "  'open': 2768.55,\n",
       "  'volumefrom': 198759.64,\n",
       "  'volumeto': 518400819.19,\n",
       "  'close': 2608.18,\n",
       "  'conversionType': 'multiply',\n",
       "  'conversionSymbol': 'BTC'},\n",
       " {'time': 1651795200,\n",
       "  'high': 2580.01,\n",
       "  'low': 2532.86,\n",
       "  'open': 2608.18,\n",
       "  'volumefrom': 182438.13,\n",
       "  'volumeto': 466079235.35,\n",
       "  'close': 2554.72,\n",
       "  'conversionType': 'multiply',\n",
       "  'conversionSymbol': 'BTC'},\n",
       " {'time': 1651881600,\n",
       "  'high': 2535.64,\n",
       "  'low': 2495.59,\n",
       "  'open': 2554.72,\n",
       "  'volumefrom': 132684.56,\n",
       "  'volumeto': 331795829.35,\n",
       "  'close': 2500.64,\n",
       "  'conversionType': 'multiply',\n",
       "  'conversionSymbol': 'BTC'},\n",
       " {'time': 1651968000,\n",
       "  'high': 2418.68,\n",
       "  'low': 2364.99,\n",
       "  'open': 2500.64,\n",
       "  'volumefrom': 219030.39,\n",
       "  'volumeto': 524238632.07,\n",
       "  'close': 2393.45,\n",
       "  'conversionType': 'multiply',\n",
       "  'conversionSymbol': 'BTC'},\n",
       " {'time': 1652054400,\n",
       "  'high': 2117.95,\n",
       "  'low': 2055.87,\n",
       "  'open': 2393.45,\n",
       "  'volumefrom': 429977.64,\n",
       "  'volumeto': 907731926.43,\n",
       "  'close': 2111.11,\n",
       "  'conversionType': 'multiply',\n",
       "  'conversionSymbol': 'BTC'},\n",
       " {'time': 1652140800,\n",
       "  'high': 2246.45,\n",
       "  'low': 2168.39,\n",
       "  'open': 2111.11,\n",
       "  'volumefrom': 444885.31,\n",
       "  'volumeto': 989714792.51,\n",
       "  'close': 2224.65,\n",
       "  'conversionType': 'multiply',\n",
       "  'conversionSymbol': 'BTC'},\n",
       " {'time': 1652227200,\n",
       "  'high': 2115.87,\n",
       "  'low': 1970.4,\n",
       "  'open': 2224.65,\n",
       "  'volumefrom': 703693.7,\n",
       "  'volumeto': 1388497493.46,\n",
       "  'close': 1973.16,\n",
       "  'conversionType': 'multiply',\n",
       "  'conversionSymbol': 'BTC'},\n",
       " {'time': 1652313600,\n",
       "  'high': 2024.82,\n",
       "  'low': 1851.72,\n",
       "  'open': 1973.16,\n",
       "  'volumefrom': 737679.19,\n",
       "  'volumeto': 1388182180.82,\n",
       "  'close': 1881.82,\n",
       "  'conversionType': 'multiply',\n",
       "  'conversionSymbol': 'BTC'},\n",
       " {'time': 1652400000,\n",
       "  'high': 1955.23,\n",
       "  'low': 1893.36,\n",
       "  'open': 1881.82,\n",
       "  'volumefrom': 347966.96,\n",
       "  'volumeto': 671352289.72,\n",
       "  'close': 1929.36,\n",
       "  'conversionType': 'multiply',\n",
       "  'conversionSymbol': 'BTC'},\n",
       " {'time': 1652486400,\n",
       "  'high': 2008.9,\n",
       "  'low': 1960.63,\n",
       "  'open': 1929.36,\n",
       "  'volumefrom': 184068.35,\n",
       "  'volumeto': 363602673.18,\n",
       "  'close': 1975.37,\n",
       "  'conversionType': 'multiply',\n",
       "  'conversionSymbol': 'BTC'},\n",
       " {'time': 1652572800,\n",
       "  'high': 2084.95,\n",
       "  'low': 2035.59,\n",
       "  'open': 1975.37,\n",
       "  'volumefrom': 160388.12,\n",
       "  'volumeto': 330636324.32,\n",
       "  'close': 2061.48,\n",
       "  'conversionType': 'multiply',\n",
       "  'conversionSymbol': 'BTC'},\n",
       " {'time': 1652659200,\n",
       "  'high': 1960.35,\n",
       "  'low': 1926.32,\n",
       "  'open': 2061.48,\n",
       "  'volumefrom': 246034.37,\n",
       "  'volumeto': 476403102.01,\n",
       "  'close': 1936.33,\n",
       "  'conversionType': 'multiply',\n",
       "  'conversionSymbol': 'BTC'},\n",
       " {'time': 1652745600,\n",
       "  'high': 1990.9,\n",
       "  'low': 1953.39,\n",
       "  'open': 1936.33,\n",
       "  'volumefrom': 196071.93,\n",
       "  'volumeto': 388492775.65,\n",
       "  'close': 1981.38,\n",
       "  'conversionType': 'multiply',\n",
       "  'conversionSymbol': 'BTC'},\n",
       " {'time': 1652832000,\n",
       "  'high': 1887.98,\n",
       "  'low': 1823.88,\n",
       "  'open': 1981.38,\n",
       "  'volumefrom': 262306.83,\n",
       "  'volumeto': 479134355.48,\n",
       "  'close': 1826.62,\n",
       "  'conversionType': 'multiply',\n",
       "  'conversionSymbol': 'BTC'},\n",
       " {'time': 1652918400,\n",
       "  'high': 1924.29,\n",
       "  'low': 1894.5,\n",
       "  'open': 1826.62,\n",
       "  'volumefrom': 330376.27,\n",
       "  'volumeto': 630157064.96,\n",
       "  'close': 1907.39,\n",
       "  'conversionType': 'multiply',\n",
       "  'conversionSymbol': 'BTC'},\n",
       " {'time': 1653004800,\n",
       "  'high': 1868.16,\n",
       "  'low': 1838.3,\n",
       "  'open': 1907.39,\n",
       "  'volumefrom': 254301.74,\n",
       "  'volumeto': 471841563.1,\n",
       "  'close': 1855.44,\n",
       "  'conversionType': 'multiply',\n",
       "  'conversionSymbol': 'BTC'},\n",
       " {'time': 1653091200,\n",
       "  'high': 1879.7,\n",
       "  'low': 1861.87,\n",
       "  'open': 1855.44,\n",
       "  'volumefrom': 98296.6,\n",
       "  'volumeto': 183645502.14,\n",
       "  'close': 1868.28,\n",
       "  'conversionType': 'multiply',\n",
       "  'conversionSymbol': 'BTC'},\n",
       " {'time': 1653177600,\n",
       "  'high': 1936.07,\n",
       "  'low': 1918.89,\n",
       "  'open': 1868.28,\n",
       "  'volumefrom': 163198.47,\n",
       "  'volumeto': 315216052.62,\n",
       "  'close': 1931.49,\n",
       "  'conversionType': 'multiply',\n",
       "  'conversionSymbol': 'BTC'},\n",
       " {'time': 1653264000,\n",
       "  'high': 1860.05,\n",
       "  'low': 1830.1,\n",
       "  'open': 1931.49,\n",
       "  'volumefrom': 274166.62,\n",
       "  'volumeto': 506082864.83,\n",
       "  'close': 1845.9,\n",
       "  'conversionType': 'multiply',\n",
       "  'conversionSymbol': 'BTC'},\n",
       " {'time': 1653350400,\n",
       "  'high': 1877.46,\n",
       "  'low': 1834.11,\n",
       "  'open': 1845.9,\n",
       "  'volumefrom': 103684.84,\n",
       "  'volumeto': 191028057.69,\n",
       "  'close': 1842.39,\n",
       "  'conversionType': 'multiply',\n",
       "  'conversionSymbol': 'BTC'},\n",
       " {'time': 1653436800,\n",
       "  'high': 1851.5,\n",
       "  'low': 1813.65,\n",
       "  'open': 1842.39,\n",
       "  'volumefrom': 142123.43,\n",
       "  'volumeto': 258193704.9,\n",
       "  'close': 1816.69,\n",
       "  'conversionType': 'multiply',\n",
       "  'conversionSymbol': 'BTC'},\n",
       " {'time': 1653523200,\n",
       "  'high': 1792.32,\n",
       "  'low': 1668.24,\n",
       "  'open': 1816.69,\n",
       "  'volumefrom': 383688.98,\n",
       "  'volumeto': 640607621.65,\n",
       "  'close': 1669.6,\n",
       "  'conversionType': 'multiply',\n",
       "  'conversionSymbol': 'BTC'},\n",
       " {'time': 1653609600,\n",
       "  'high': 1660.15,\n",
       "  'low': 1593.81,\n",
       "  'open': 1669.6,\n",
       "  'volumefrom': 416259.6,\n",
       "  'volumeto': 668982491.06,\n",
       "  'close': 1607.13,\n",
       "  'conversionType': 'multiply',\n",
       "  'conversionSymbol': 'BTC'},\n",
       " {'time': 1653696000,\n",
       "  'high': 1682.02,\n",
       "  'low': 1627.66,\n",
       "  'open': 1607.13,\n",
       "  'volumefrom': 245776.89,\n",
       "  'volumeto': 410411522.14,\n",
       "  'close': 1669.85,\n",
       "  'conversionType': 'multiply',\n",
       "  'conversionSymbol': 'BTC'},\n",
       " {'time': 1653782400,\n",
       "  'high': 1700.77,\n",
       "  'low': 1677.98,\n",
       "  'open': 1669.85,\n",
       "  'volumefrom': 171292.97,\n",
       "  'volumeto': 289401489.82,\n",
       "  'close': 1689.51,\n",
       "  'conversionType': 'multiply',\n",
       "  'conversionSymbol': 'BTC'},\n",
       " {'time': 1653868800,\n",
       "  'high': 1857.48,\n",
       "  'low': 1809.48,\n",
       "  'open': 1689.51,\n",
       "  'volumefrom': 253559.87,\n",
       "  'volumeto': 470160166,\n",
       "  'close': 1854.24,\n",
       "  'conversionType': 'multiply',\n",
       "  'conversionSymbol': 'BTC'},\n",
       " {'time': 1653955200,\n",
       "  'high': 1871.26,\n",
       "  'low': 1805.83,\n",
       "  'open': 1854.24,\n",
       "  'volumefrom': 247420.46,\n",
       "  'volumeto': 447311876.83,\n",
       "  'close': 1807.9,\n",
       "  'conversionType': 'multiply',\n",
       "  'conversionSymbol': 'BTC'},\n",
       " {'time': 1654041600,\n",
       "  'high': 1731.55,\n",
       "  'low': 1682.33,\n",
       "  'open': 1807.9,\n",
       "  'volumefrom': 380164.46,\n",
       "  'volumeto': 648811879.37,\n",
       "  'close': 1706.66,\n",
       "  'conversionType': 'multiply',\n",
       "  'conversionSymbol': 'BTC'},\n",
       " {'time': 1654128000,\n",
       "  'high': 1740.34,\n",
       "  'low': 1697.29,\n",
       "  'open': 1706.66,\n",
       "  'volumefrom': 300410.39,\n",
       "  'volumeto': 512435927.7,\n",
       "  'close': 1705.79,\n",
       "  'conversionType': 'multiply',\n",
       "  'conversionSymbol': 'BTC'},\n",
       " {'time': 1654214400,\n",
       "  'high': 1670.47,\n",
       "  'low': 1634.16,\n",
       "  'open': 1705.79,\n",
       "  'volumefrom': 312518.79,\n",
       "  'volumeto': 517636760.09,\n",
       "  'close': 1656.34,\n",
       "  'conversionType': 'multiply',\n",
       "  'conversionSymbol': 'BTC'},\n",
       " {'time': 1654300800,\n",
       "  'high': 1688.78,\n",
       "  'low': 1651.16,\n",
       "  'open': 1656.34,\n",
       "  'volumefrom': 157285.09,\n",
       "  'volumeto': 264830404.79,\n",
       "  'close': 1683.76,\n",
       "  'conversionType': 'multiply',\n",
       "  'conversionSymbol': 'BTC'},\n",
       " {'time': 1654387200,\n",
       "  'high': 1696.38,\n",
       "  'low': 1669.05,\n",
       "  'open': 1683.76,\n",
       "  'volumefrom': 165233.37,\n",
       "  'volumeto': 278224569.32,\n",
       "  'close': 1683.83,\n",
       "  'conversionType': 'multiply',\n",
       "  'conversionSymbol': 'BTC'}]"
      ]
     },
     "execution_count": 9,
     "metadata": {},
     "output_type": "execute_result"
    }
   ],
   "source": [
    "ETHy = cryptocompare.get_historical_price_day('ETH', 'EUR', limit=100, exchange='CCCAGG', toTs=datetime.datetime(2022,6,6))\n",
    "ETHy"
   ]
  },
  {
   "cell_type": "code",
   "execution_count": 10,
   "id": "7170c6a6",
   "metadata": {},
   "outputs": [],
   "source": [
    "eth = pd.DataFrame(ETHy)"
   ]
  },
  {
   "cell_type": "code",
   "execution_count": 11,
   "id": "62364924",
   "metadata": {},
   "outputs": [],
   "source": [
    "eth[\"Date\"] = pd.to_datetime(eth[\"time\"], unit = \"s\")"
   ]
  },
  {
   "cell_type": "code",
   "execution_count": 12,
   "id": "fce12f08",
   "metadata": {},
   "outputs": [],
   "source": [
    "eth = eth.set_index('Date')"
   ]
  },
  {
   "cell_type": "code",
   "execution_count": 13,
   "id": "5ad57508",
   "metadata": {},
   "outputs": [
    {
     "data": {
      "text/html": [
       "<div>\n",
       "<style scoped>\n",
       "    .dataframe tbody tr th:only-of-type {\n",
       "        vertical-align: middle;\n",
       "    }\n",
       "\n",
       "    .dataframe tbody tr th {\n",
       "        vertical-align: top;\n",
       "    }\n",
       "\n",
       "    .dataframe thead th {\n",
       "        text-align: right;\n",
       "    }\n",
       "</style>\n",
       "<table border=\"1\" class=\"dataframe\">\n",
       "  <thead>\n",
       "    <tr style=\"text-align: right;\">\n",
       "      <th></th>\n",
       "      <th>time</th>\n",
       "      <th>high</th>\n",
       "      <th>low</th>\n",
       "      <th>open</th>\n",
       "      <th>volumefrom</th>\n",
       "      <th>volumeto</th>\n",
       "      <th>close</th>\n",
       "      <th>conversionType</th>\n",
       "      <th>conversionSymbol</th>\n",
       "    </tr>\n",
       "    <tr>\n",
       "      <th>Date</th>\n",
       "      <th></th>\n",
       "      <th></th>\n",
       "      <th></th>\n",
       "      <th></th>\n",
       "      <th></th>\n",
       "      <th></th>\n",
       "      <th></th>\n",
       "      <th></th>\n",
       "      <th></th>\n",
       "    </tr>\n",
       "  </thead>\n",
       "  <tbody>\n",
       "    <tr>\n",
       "      <th>2022-02-25</th>\n",
       "      <td>1645747200</td>\n",
       "      <td>2515.73</td>\n",
       "      <td>2303.09</td>\n",
       "      <td>2319.69</td>\n",
       "      <td>74295.57</td>\n",
       "      <td>1.775724e+08</td>\n",
       "      <td>2456.33</td>\n",
       "      <td>direct</td>\n",
       "      <td></td>\n",
       "    </tr>\n",
       "    <tr>\n",
       "      <th>2022-02-26</th>\n",
       "      <td>1645833600</td>\n",
       "      <td>2502.79</td>\n",
       "      <td>2449.66</td>\n",
       "      <td>2457.35</td>\n",
       "      <td>114359.28</td>\n",
       "      <td>2.822464e+08</td>\n",
       "      <td>2468.07</td>\n",
       "      <td>multiply</td>\n",
       "      <td>BTC</td>\n",
       "    </tr>\n",
       "    <tr>\n",
       "      <th>2022-02-27</th>\n",
       "      <td>1645920000</td>\n",
       "      <td>2516.53</td>\n",
       "      <td>2295.23</td>\n",
       "      <td>2467.68</td>\n",
       "      <td>94262.88</td>\n",
       "      <td>2.260695e+08</td>\n",
       "      <td>2341.50</td>\n",
       "      <td>direct</td>\n",
       "      <td></td>\n",
       "    </tr>\n",
       "    <tr>\n",
       "      <th>2022-02-28</th>\n",
       "      <td>1646006400</td>\n",
       "      <td>2621.38</td>\n",
       "      <td>2305.96</td>\n",
       "      <td>2341.50</td>\n",
       "      <td>100133.52</td>\n",
       "      <td>2.439331e+08</td>\n",
       "      <td>2606.40</td>\n",
       "      <td>direct</td>\n",
       "      <td></td>\n",
       "    </tr>\n",
       "    <tr>\n",
       "      <th>2022-03-01</th>\n",
       "      <td>1646092800</td>\n",
       "      <td>2723.90</td>\n",
       "      <td>2557.71</td>\n",
       "      <td>2606.40</td>\n",
       "      <td>91898.10</td>\n",
       "      <td>2.426247e+08</td>\n",
       "      <td>2673.69</td>\n",
       "      <td>direct</td>\n",
       "      <td></td>\n",
       "    </tr>\n",
       "  </tbody>\n",
       "</table>\n",
       "</div>"
      ],
      "text/plain": [
       "                  time     high      low     open  volumefrom      volumeto  \\\n",
       "Date                                                                          \n",
       "2022-02-25  1645747200  2515.73  2303.09  2319.69    74295.57  1.775724e+08   \n",
       "2022-02-26  1645833600  2502.79  2449.66  2457.35   114359.28  2.822464e+08   \n",
       "2022-02-27  1645920000  2516.53  2295.23  2467.68    94262.88  2.260695e+08   \n",
       "2022-02-28  1646006400  2621.38  2305.96  2341.50   100133.52  2.439331e+08   \n",
       "2022-03-01  1646092800  2723.90  2557.71  2606.40    91898.10  2.426247e+08   \n",
       "\n",
       "              close conversionType conversionSymbol  \n",
       "Date                                                 \n",
       "2022-02-25  2456.33         direct                   \n",
       "2022-02-26  2468.07       multiply              BTC  \n",
       "2022-02-27  2341.50         direct                   \n",
       "2022-02-28  2606.40         direct                   \n",
       "2022-03-01  2673.69         direct                   "
      ]
     },
     "execution_count": 13,
     "metadata": {},
     "output_type": "execute_result"
    }
   ],
   "source": [
    "eth.head()"
   ]
  },
  {
   "cell_type": "markdown",
   "id": "874578c8",
   "metadata": {},
   "source": [
    "We use these function to check that we donst have any na values"
   ]
  },
  {
   "cell_type": "code",
   "execution_count": 14,
   "id": "9ff99c97",
   "metadata": {},
   "outputs": [
    {
     "data": {
      "text/plain": [
       "time                0\n",
       "high                0\n",
       "low                 0\n",
       "open                0\n",
       "volumefrom          0\n",
       "volumeto            0\n",
       "close               0\n",
       "conversionType      0\n",
       "conversionSymbol    0\n",
       "dtype: int64"
      ]
     },
     "execution_count": 14,
     "metadata": {},
     "output_type": "execute_result"
    }
   ],
   "source": [
    "eth.isnull().sum()"
   ]
  },
  {
   "cell_type": "code",
   "execution_count": 15,
   "id": "814c3e14",
   "metadata": {},
   "outputs": [
    {
     "data": {
      "text/plain": [
       "time                False\n",
       "high                False\n",
       "low                 False\n",
       "open                False\n",
       "volumefrom          False\n",
       "volumeto            False\n",
       "close               False\n",
       "conversionType      False\n",
       "conversionSymbol    False\n",
       "dtype: bool"
      ]
     },
     "execution_count": 15,
     "metadata": {},
     "output_type": "execute_result"
    }
   ],
   "source": [
    "eth.isnull().any()"
   ]
  },
  {
   "cell_type": "markdown",
   "id": "ad884b4b",
   "metadata": {},
   "source": [
    "We plot the graf"
   ]
  },
  {
   "cell_type": "code",
   "execution_count": 16,
   "id": "eba08a0f",
   "metadata": {},
   "outputs": [
    {
     "data": {
      "text/plain": [
       "<AxesSubplot:xlabel='Date'>"
      ]
     },
     "execution_count": 16,
     "metadata": {},
     "output_type": "execute_result"
    },
    {
     "data": {
      "image/png": "[encoded data removed]",
      "text/plain": [
       "<Figure size 1152x432 with 1 Axes>"
      ]
     },
     "metadata": {
      "needs_background": "light"
     },
     "output_type": "display_data"
    }
   ],
   "source": [
    "eth['close'].plot(figsize=(16,6))"
   ]
  },
  {
   "cell_type": "markdown",
   "id": "490b806c",
   "metadata": {},
   "source": [
    "We plot to see how many aoutcorrelations there are"
   ]
  },
  {
   "cell_type": "code",
   "execution_count": 18,
   "id": "52c290cf",
   "metadata": {},
   "outputs": [
    {
     "data": {
      "image/png": "[encoded data removed]",
      "text/plain": [
       "<Figure size 432x288 with 1 Axes>"
      ]
     },
     "execution_count": 18,
     "metadata": {},
     "output_type": "execute_result"
    },
    {
     "data": {
      "image/png": "[encoded data removed]",
      "text/plain": [
       "<Figure size 432x288 with 1 Axes>"
      ]
     },
     "metadata": {
      "needs_background": "light"
     },
     "output_type": "display_data"
    }
   ],
   "source": [
    "plot_acf(eth[\"close\"])"
   ]
  },
  {
   "cell_type": "code",
   "execution_count": 19,
   "id": "a47180e2",
   "metadata": {},
   "outputs": [],
   "source": [
    "def ADF_test(timeseries, dataDesc):\n",
    "    print(' > Is the {} stationary ?'.format(dataDesc))\n",
    "    dftest = adfuller(timeseries.dropna(), autolag='AIC')\n",
    "    print('Test statistic = {:.3f}'.format(dftest[0]))\n",
    "    print('P-value = {:.3f}'.format(dftest[1]))\n",
    "    print('Critical values :')\n",
    "    for k, v in dftest[4].items():\n",
    "        print('\\t{}: {} - The data is {} stationary with {}% confidence'.format(k, v, 'not' if v<dftest[0] else '', 100-int(k[:-1])))"
   ]
  },
  {
   "cell_type": "code",
   "execution_count": 20,
   "id": "a7b72287",
   "metadata": {},
   "outputs": [
    {
     "name": "stdout",
     "output_type": "stream",
     "text": [
      " > Is the raw data stationary ?\n",
      "Test statistic = -0.309\n",
      "P-value = 0.924\n",
      "Critical values :\n",
      "\t1%: -3.497501033 - The data is not stationary with 99% confidence\n",
      "\t5%: -2.89090644 - The data is not stationary with 95% confidence\n",
      "\t10%: -2.5824349 - The data is not stationary with 90% confidence\n"
     ]
    }
   ],
   "source": [
    "ADF_test(eth[\"close\"],'raw data')"
   ]
  },
  {
   "cell_type": "markdown",
   "id": "482263db",
   "metadata": {},
   "source": [
    "We can se that the data is not stationary, so we have to make it stationsry "
   ]
  },
  {
   "cell_type": "markdown",
   "id": "240fc062",
   "metadata": {},
   "source": [
    "# Augmented Dickey-Fuller Test"
   ]
  },
  {
   "cell_type": "code",
   "execution_count": 21,
   "id": "27b75219",
   "metadata": {},
   "outputs": [],
   "source": [
    "daily_return = eth['close'].pct_change(1)"
   ]
  },
  {
   "cell_type": "code",
   "execution_count": 22,
   "id": "a06355f1",
   "metadata": {},
   "outputs": [
    {
     "name": "stdout",
     "output_type": "stream",
     "text": [
      " > Is the raw data stationary ?\n",
      "Test statistic = -0.309\n",
      "P-value = 0.924\n",
      "Critical values :\n",
      "\t1%: -3.497501033 - The data is not stationary with 99% confidence\n",
      "\t5%: -2.89090644 - The data is not stationary with 95% confidence\n",
      "\t10%: -2.5824349 - The data is not stationary with 90% confidence\n"
     ]
    }
   ],
   "source": [
    "ADF_test(eth[\"close\"],'raw data')"
   ]
  },
  {
   "cell_type": "markdown",
   "id": "33a5f3cc",
   "metadata": {},
   "source": [
    "We have now made it stationary"
   ]
  },
  {
   "cell_type": "code",
   "execution_count": 29,
   "id": "94635339",
   "metadata": {},
   "outputs": [
    {
     "name": "stdout",
     "output_type": "stream",
     "text": [
      " > Is the raw data stationary ?\n",
      "Test statistic = -11.146\n",
      "P-value = 0.000\n",
      "Critical values :\n",
      "\t1%: -3.498198082189098 - The data is  stationary with 99% confidence\n",
      "\t5%: -2.891208211860468 - The data is  stationary with 95% confidence\n",
      "\t10%: -2.5825959973472097 - The data is  stationary with 90% confidence\n"
     ]
    }
   ],
   "source": [
    "ADF_test(daily_return,'raw data')"
   ]
  },
  {
   "cell_type": "markdown",
   "id": "fdd9390b",
   "metadata": {},
   "source": [
    "Plot the Change"
   ]
  },
  {
   "cell_type": "code",
   "execution_count": 23,
   "id": "f798ef6c",
   "metadata": {},
   "outputs": [
    {
     "data": {
      "image/png": "[encoded data removed]",
      "text/plain": [
       "<Figure size 720x504 with 1 Axes>"
      ]
     },
     "metadata": {
      "needs_background": "light"
     },
     "output_type": "display_data"
    }
   ],
   "source": [
    "plt.figure(figsize=(10, 7))\n",
    "plt.plot(daily_return)\n",
    "plt.title('Daily return variation', fontsize=14)\n",
    "plt.xlabel('Year', fontsize=12)\n",
    "plt.ylabel('Difference', fontsize=12)\n",
    "plt.show()"
   ]
  },
  {
   "cell_type": "code",
   "execution_count": 24,
   "id": "ddfdb43e",
   "metadata": {},
   "outputs": [],
   "source": [
    "eth['Difference'] = eth['close'].diff()"
   ]
  },
  {
   "cell_type": "code",
   "execution_count": 25,
   "id": "0870402d",
   "metadata": {},
   "outputs": [],
   "source": [
    "y = eth[\"Difference\"]"
   ]
  },
  {
   "cell_type": "code",
   "execution_count": 26,
   "id": "90fc837b",
   "metadata": {},
   "outputs": [],
   "source": [
    "y = eth.dropna()[\"Difference\"]"
   ]
  },
  {
   "cell_type": "code",
   "execution_count": 27,
   "id": "d8e97415",
   "metadata": {},
   "outputs": [
    {
     "data": {
      "image/png": "[encoded data removed]",
      "text/plain": [
       "<Figure size 432x288 with 1 Axes>"
      ]
     },
     "execution_count": 27,
     "metadata": {},
     "output_type": "execute_result"
    },
    {
     "data": {
      "image/png": "[encoded data removed]",
      "text/plain": [
       "<Figure size 432x288 with 1 Axes>"
      ]
     },
     "metadata": {
      "needs_background": "light"
     },
     "output_type": "display_data"
    }
   ],
   "source": [
    "plot_acf(y)"
   ]
  },
  {
   "cell_type": "code",
   "execution_count": 28,
   "id": "182abda4",
   "metadata": {},
   "outputs": [
    {
     "name": "stdout",
     "output_type": "stream",
     "text": [
      "Date\n",
      "2022-02-26     11.74\n",
      "2022-02-27   -126.57\n",
      "2022-02-28    264.90\n",
      "2022-03-01     67.29\n",
      "2022-03-02    -20.42\n",
      "               ...  \n",
      "2022-06-01   -101.24\n",
      "2022-06-02     -0.87\n",
      "2022-06-03    -49.45\n",
      "2022-06-04     27.42\n",
      "2022-06-05      0.07\n",
      "Name: Difference, Length: 100, dtype: float64\n"
     ]
    }
   ],
   "source": [
    "print(y)"
   ]
  },
  {
   "cell_type": "markdown",
   "id": "f0c6fea7",
   "metadata": {},
   "source": [
    "since we need more then 10 variables we are creating 11 lags in a loop. We could have picked 11, 15, 16 or 18 as we can se from the graf"
   ]
  },
  {
   "cell_type": "code",
   "execution_count": 29,
   "id": "aad3cf80",
   "metadata": {},
   "outputs": [],
   "source": [
    "lags = pd.DataFrame()\n",
    "for i in range(11,0,-1):\n",
    "            lags['t-'+str(i)] = y.shift(i)\n",
    "            lags['t'] =  y"
   ]
  },
  {
   "cell_type": "markdown",
   "id": "94e94394",
   "metadata": {},
   "source": [
    "We are dropping na values "
   ]
  },
  {
   "cell_type": "code",
   "execution_count": 30,
   "id": "c72f48f2",
   "metadata": {},
   "outputs": [],
   "source": [
    "lags = lags.dropna()"
   ]
  },
  {
   "cell_type": "code",
   "execution_count": 31,
   "id": "7fb20065",
   "metadata": {},
   "outputs": [
    {
     "name": "stdout",
     "output_type": "stream",
     "text": [
      "              t-11    t-10     t-9     t-8     t-7     t-6     t-5     t-4  \\\n",
      "Date                                                                         \n",
      "2022-03-09   11.74 -126.57  264.90   67.29  -20.42  -91.57 -162.33   40.92   \n",
      "2022-03-10 -126.57  264.90   67.29  -20.42  -91.57 -162.33   40.92  -93.63   \n",
      "2022-03-11  264.90   67.29  -20.42  -91.57 -162.33   40.92  -93.63  -50.49   \n",
      "2022-03-12   67.29  -20.42  -91.57 -162.33   40.92  -93.63  -50.49   69.86   \n",
      "2022-03-13  -20.42  -91.57 -162.33   40.92  -93.63  -50.49   69.86   98.57   \n",
      "...            ...     ...     ...     ...     ...     ...     ...     ...   \n",
      "2022-06-01   12.84   63.21  -85.59   -3.51  -25.70 -147.09  -62.47   62.72   \n",
      "2022-06-02   63.21  -85.59   -3.51  -25.70 -147.09  -62.47   62.72   19.66   \n",
      "2022-06-03  -85.59   -3.51  -25.70 -147.09  -62.47   62.72   19.66  164.73   \n",
      "2022-06-04   -3.51  -25.70 -147.09  -62.47   62.72   19.66  164.73  -46.34   \n",
      "2022-06-05  -25.70 -147.09  -62.47   62.72   19.66  164.73  -46.34 -101.24   \n",
      "\n",
      "               t-3     t-2     t-1  \n",
      "Date                                \n",
      "2022-03-09  -93.63  -50.49   69.86  \n",
      "2022-03-10  -50.49   69.86   98.57  \n",
      "2022-03-11   69.86   98.57  -95.40  \n",
      "2022-03-12   98.57  -95.40  -24.39  \n",
      "2022-03-13  -95.40  -24.39   12.38  \n",
      "...            ...     ...     ...  \n",
      "2022-06-01   19.66  164.73  -46.34  \n",
      "2022-06-02  164.73  -46.34 -101.24  \n",
      "2022-06-03  -46.34 -101.24   -0.87  \n",
      "2022-06-04 -101.24   -0.87  -49.45  \n",
      "2022-06-05   -0.87  -49.45   27.42  \n",
      "\n",
      "[89 rows x 11 columns]\n"
     ]
    }
   ],
   "source": [
    "X = lags.loc[:, lags.columns != 't']\n",
    "Y = lags.iloc[:, 1]\n",
    "print(X)"
   ]
  },
  {
   "cell_type": "markdown",
   "id": "385f332c",
   "metadata": {},
   "source": [
    "We are training variables "
   ]
  },
  {
   "cell_type": "code",
   "execution_count": 32,
   "id": "b801d0fd",
   "metadata": {},
   "outputs": [],
   "source": [
    "X_train, X_test, y_train, y_test = train_test_split(\n",
    "    X,\n",
    "    Y,\n",
    "    random_state=40\n",
    ")"
   ]
  },
  {
   "cell_type": "markdown",
   "id": "2a8a5914",
   "metadata": {},
   "source": [
    "Dropping NA values "
   ]
  },
  {
   "cell_type": "code",
   "execution_count": 33,
   "id": "47637c90",
   "metadata": {},
   "outputs": [],
   "source": [
    "daily_return = daily_return.dropna()"
   ]
  },
  {
   "cell_type": "markdown",
   "id": "0ca68c85",
   "metadata": {},
   "source": [
    "We are plotting the graf\n",
    "\n",
    "We have deiced to have 30 steps, which is how many days back we are taking data to forcast future data"
   ]
  },
  {
   "cell_type": "code",
   "execution_count": 34,
   "id": "e483bf07",
   "metadata": {},
   "outputs": [
    {
     "name": "stdout",
     "output_type": "stream",
     "text": [
      "Train dates : 2022-02-26 00:00:00 --- 2022-05-06 00:00:00  (n=70)\n",
      "Test dates  : 2022-05-07 00:00:00 --- 2022-06-05 00:00:00  (n=30)\n"
     ]
    },
    {
     "data": {
      "image/png": "[encoded data removed]",
      "text/plain": [
       "<Figure size 648x288 with 1 Axes>"
      ]
     },
     "metadata": {
      "needs_background": "light"
     },
     "output_type": "display_data"
    }
   ],
   "source": [
    "steps = 30\n",
    "data_train = y[:-steps]\n",
    "data_test  = y[-steps:]\n",
    "\n",
    "print(f\"Train dates : {data_train.index.min()} --- {data_train.index.max()}  (n={len(data_train)})\")\n",
    "print(f\"Test dates  : {data_test.index.min()} --- {data_test.index.max()}  (n={len(data_test)})\")\n",
    "\n",
    "fig, ax=plt.subplots(figsize=(9, 4))\n",
    "data_train.plot(ax=ax, label='train')\n",
    "data_test.plot(ax=ax, label='test')\n",
    "ax.legend();"
   ]
  },
  {
   "cell_type": "markdown",
   "id": "be79a795",
   "metadata": {},
   "source": [
    "Using Elastic net as the regressor"
   ]
  },
  {
   "cell_type": "code",
   "execution_count": 35,
   "id": "3027b6b6",
   "metadata": {},
   "outputs": [
    {
     "name": "stderr",
     "output_type": "stream",
     "text": [
      "/Library/Frameworks/Python.framework/Versions/3.10/lib/python3.10/site-packages/skforecast/utils/utils.py:246: UserWarning: `y` has DatetimeIndex index but no frequency. Index is overwritten with a RangeIndex of step 1.\n",
      "  warnings.warn(\n",
      "/Library/Frameworks/Python.framework/Versions/3.10/lib/python3.10/site-packages/skforecast/utils/utils.py:246: UserWarning: `y` has DatetimeIndex index but no frequency. Index is overwritten with a RangeIndex of step 1.\n",
      "  warnings.warn(\n"
     ]
    },
    {
     "data": {
      "text/plain": [
       "================= \n",
       "ForecasterAutoreg \n",
       "================= \n",
       "Regressor: ElasticNet(alpha=0.5, l1_ratio=1) \n",
       "Lags: [ 1  2  3  4  5  6  7  8  9 10 11] \n",
       "Window size: 11 \n",
       "Included exogenous: False \n",
       "Type of exogenous variable: None \n",
       "Exogenous variables names: None \n",
       "Training range: [0, 99] \n",
       "Training index type: RangeIndex \n",
       "Training index frequency: 1 \n",
       "Regressor parameters: {'alpha': 0.5, 'copy_X': True, 'fit_intercept': True, 'l1_ratio': 1, 'max_iter': 1000, 'normalize': 'deprecated', 'positive': False, 'precompute': False, 'random_state': None, 'selection': 'cyclic', 'tol': 0.0001, 'warm_start': False} \n",
       "Creation date: 2022-08-04 21:24:57 \n",
       "Last fit date: 2022-08-04 21:24:57 \n",
       "Skforecast version: 0.4.3 "
      ]
     },
     "execution_count": 35,
     "metadata": {},
     "output_type": "execute_result"
    }
   ],
   "source": [
    "forecaster = ForecasterAutoreg(\n",
    "                regressor = ElasticNet(alpha = 0.5, l1_ratio = 1),\n",
    "                lags      = 11\n",
    "             )\n",
    "forecaster.fit(y = y)\n",
    "forecaster"
   ]
  },
  {
   "cell_type": "markdown",
   "id": "127a7d7a",
   "metadata": {},
   "source": [
    "We are making predictions "
   ]
  },
  {
   "cell_type": "code",
   "execution_count": 36,
   "id": "c9890fba",
   "metadata": {},
   "outputs": [
    {
     "data": {
      "text/plain": [
       "100    10.089954\n",
       "101   -45.968696\n",
       "102    30.200671\n",
       "103   -36.147169\n",
       "104   -15.791406\n",
       "Name: pred, dtype: float64"
      ]
     },
     "execution_count": 36,
     "metadata": {},
     "output_type": "execute_result"
    }
   ],
   "source": [
    "steps = 30\n",
    "predictions = forecaster.predict(steps=steps)\n",
    "predictions.head(5)"
   ]
  },
  {
   "cell_type": "code",
   "execution_count": 37,
   "id": "47be6ffb",
   "metadata": {},
   "outputs": [],
   "source": [
    "predictions = predictions.to_frame()"
   ]
  },
  {
   "cell_type": "code",
   "execution_count": 38,
   "id": "a9f7f000",
   "metadata": {},
   "outputs": [],
   "source": [
    "data_test = data_test.to_frame()"
   ]
  },
  {
   "cell_type": "markdown",
   "id": "45b03065",
   "metadata": {},
   "source": [
    "We are adding predictions to a dataframe"
   ]
  },
  {
   "cell_type": "code",
   "execution_count": 39,
   "id": "8a16dc10",
   "metadata": {},
   "outputs": [],
   "source": [
    "data_test['predictions'] = predictions['pred'].values"
   ]
  },
  {
   "cell_type": "code",
   "execution_count": 40,
   "id": "d93ebcbd",
   "metadata": {},
   "outputs": [
    {
     "data": {
      "text/html": [
       "<div>\n",
       "<style scoped>\n",
       "    .dataframe tbody tr th:only-of-type {\n",
       "        vertical-align: middle;\n",
       "    }\n",
       "\n",
       "    .dataframe tbody tr th {\n",
       "        vertical-align: top;\n",
       "    }\n",
       "\n",
       "    .dataframe thead th {\n",
       "        text-align: right;\n",
       "    }\n",
       "</style>\n",
       "<table border=\"1\" class=\"dataframe\">\n",
       "  <thead>\n",
       "    <tr style=\"text-align: right;\">\n",
       "      <th></th>\n",
       "      <th>Difference</th>\n",
       "      <th>predictions</th>\n",
       "    </tr>\n",
       "    <tr>\n",
       "      <th>Date</th>\n",
       "      <th></th>\n",
       "      <th></th>\n",
       "    </tr>\n",
       "  </thead>\n",
       "  <tbody>\n",
       "    <tr>\n",
       "      <th>2022-05-07</th>\n",
       "      <td>-54.08</td>\n",
       "      <td>10.089954</td>\n",
       "    </tr>\n",
       "    <tr>\n",
       "      <th>2022-05-08</th>\n",
       "      <td>-107.19</td>\n",
       "      <td>-45.968696</td>\n",
       "    </tr>\n",
       "    <tr>\n",
       "      <th>2022-05-09</th>\n",
       "      <td>-282.34</td>\n",
       "      <td>30.200671</td>\n",
       "    </tr>\n",
       "    <tr>\n",
       "      <th>2022-05-10</th>\n",
       "      <td>113.54</td>\n",
       "      <td>-36.147169</td>\n",
       "    </tr>\n",
       "    <tr>\n",
       "      <th>2022-05-11</th>\n",
       "      <td>-251.49</td>\n",
       "      <td>-15.791406</td>\n",
       "    </tr>\n",
       "    <tr>\n",
       "      <th>2022-05-12</th>\n",
       "      <td>-91.34</td>\n",
       "      <td>14.873842</td>\n",
       "    </tr>\n",
       "    <tr>\n",
       "      <th>2022-05-13</th>\n",
       "      <td>47.54</td>\n",
       "      <td>-25.054384</td>\n",
       "    </tr>\n",
       "    <tr>\n",
       "      <th>2022-05-14</th>\n",
       "      <td>46.01</td>\n",
       "      <td>2.639780</td>\n",
       "    </tr>\n",
       "    <tr>\n",
       "      <th>2022-05-15</th>\n",
       "      <td>86.11</td>\n",
       "      <td>-8.814862</td>\n",
       "    </tr>\n",
       "    <tr>\n",
       "      <th>2022-05-16</th>\n",
       "      <td>-125.15</td>\n",
       "      <td>-3.613168</td>\n",
       "    </tr>\n",
       "    <tr>\n",
       "      <th>2022-05-17</th>\n",
       "      <td>45.05</td>\n",
       "      <td>-23.980885</td>\n",
       "    </tr>\n",
       "    <tr>\n",
       "      <th>2022-05-18</th>\n",
       "      <td>-154.76</td>\n",
       "      <td>12.957950</td>\n",
       "    </tr>\n",
       "    <tr>\n",
       "      <th>2022-05-19</th>\n",
       "      <td>80.77</td>\n",
       "      <td>-21.616482</td>\n",
       "    </tr>\n",
       "    <tr>\n",
       "      <th>2022-05-20</th>\n",
       "      <td>-51.95</td>\n",
       "      <td>-5.677252</td>\n",
       "    </tr>\n",
       "    <tr>\n",
       "      <th>2022-05-21</th>\n",
       "      <td>12.84</td>\n",
       "      <td>1.127991</td>\n",
       "    </tr>\n",
       "    <tr>\n",
       "      <th>2022-05-22</th>\n",
       "      <td>63.21</td>\n",
       "      <td>-16.785664</td>\n",
       "    </tr>\n",
       "    <tr>\n",
       "      <th>2022-05-23</th>\n",
       "      <td>-85.59</td>\n",
       "      <td>-3.072505</td>\n",
       "    </tr>\n",
       "    <tr>\n",
       "      <th>2022-05-24</th>\n",
       "      <td>-3.51</td>\n",
       "      <td>-7.650710</td>\n",
       "    </tr>\n",
       "    <tr>\n",
       "      <th>2022-05-25</th>\n",
       "      <td>-25.70</td>\n",
       "      <td>-6.129797</td>\n",
       "    </tr>\n",
       "    <tr>\n",
       "      <th>2022-05-26</th>\n",
       "      <td>-147.09</td>\n",
       "      <td>-13.604320</td>\n",
       "    </tr>\n",
       "    <tr>\n",
       "      <th>2022-05-27</th>\n",
       "      <td>-62.47</td>\n",
       "      <td>2.532709</td>\n",
       "    </tr>\n",
       "    <tr>\n",
       "      <th>2022-05-28</th>\n",
       "      <td>62.72</td>\n",
       "      <td>-15.379038</td>\n",
       "    </tr>\n",
       "    <tr>\n",
       "      <th>2022-05-29</th>\n",
       "      <td>19.66</td>\n",
       "      <td>-4.861689</td>\n",
       "    </tr>\n",
       "    <tr>\n",
       "      <th>2022-05-30</th>\n",
       "      <td>164.73</td>\n",
       "      <td>-4.519309</td>\n",
       "    </tr>\n",
       "    <tr>\n",
       "      <th>2022-05-31</th>\n",
       "      <td>-46.34</td>\n",
       "      <td>-11.559560</td>\n",
       "    </tr>\n",
       "    <tr>\n",
       "      <th>2022-06-01</th>\n",
       "      <td>-101.24</td>\n",
       "      <td>-5.035285</td>\n",
       "    </tr>\n",
       "    <tr>\n",
       "      <th>2022-06-02</th>\n",
       "      <td>-0.87</td>\n",
       "      <td>-7.281229</td>\n",
       "    </tr>\n",
       "    <tr>\n",
       "      <th>2022-06-03</th>\n",
       "      <td>-49.45</td>\n",
       "      <td>-7.207764</td>\n",
       "    </tr>\n",
       "    <tr>\n",
       "      <th>2022-06-04</th>\n",
       "      <td>27.42</td>\n",
       "      <td>-9.623013</td>\n",
       "    </tr>\n",
       "    <tr>\n",
       "      <th>2022-06-05</th>\n",
       "      <td>0.07</td>\n",
       "      <td>-2.814861</td>\n",
       "    </tr>\n",
       "  </tbody>\n",
       "</table>\n",
       "</div>"
      ],
      "text/plain": [
       "            Difference  predictions\n",
       "Date                               \n",
       "2022-05-07      -54.08    10.089954\n",
       "2022-05-08     -107.19   -45.968696\n",
       "2022-05-09     -282.34    30.200671\n",
       "2022-05-10      113.54   -36.147169\n",
       "2022-05-11     -251.49   -15.791406\n",
       "2022-05-12      -91.34    14.873842\n",
       "2022-05-13       47.54   -25.054384\n",
       "2022-05-14       46.01     2.639780\n",
       "2022-05-15       86.11    -8.814862\n",
       "2022-05-16     -125.15    -3.613168\n",
       "2022-05-17       45.05   -23.980885\n",
       "2022-05-18     -154.76    12.957950\n",
       "2022-05-19       80.77   -21.616482\n",
       "2022-05-20      -51.95    -5.677252\n",
       "2022-05-21       12.84     1.127991\n",
       "2022-05-22       63.21   -16.785664\n",
       "2022-05-23      -85.59    -3.072505\n",
       "2022-05-24       -3.51    -7.650710\n",
       "2022-05-25      -25.70    -6.129797\n",
       "2022-05-26     -147.09   -13.604320\n",
       "2022-05-27      -62.47     2.532709\n",
       "2022-05-28       62.72   -15.379038\n",
       "2022-05-29       19.66    -4.861689\n",
       "2022-05-30      164.73    -4.519309\n",
       "2022-05-31      -46.34   -11.559560\n",
       "2022-06-01     -101.24    -5.035285\n",
       "2022-06-02       -0.87    -7.281229\n",
       "2022-06-03      -49.45    -7.207764\n",
       "2022-06-04       27.42    -9.623013\n",
       "2022-06-05        0.07    -2.814861"
      ]
     },
     "execution_count": 40,
     "metadata": {},
     "output_type": "execute_result"
    }
   ],
   "source": [
    "data_test"
   ]
  },
  {
   "cell_type": "markdown",
   "id": "99fa1176",
   "metadata": {},
   "source": [
    "We are plotting the graf"
   ]
  },
  {
   "cell_type": "code",
   "execution_count": 41,
   "id": "a8bd440e",
   "metadata": {},
   "outputs": [
    {
     "data": {
      "image/png": "[encoded data removed]",
      "text/plain": [
       "<Figure size 648x288 with 1 Axes>"
      ]
     },
     "metadata": {
      "needs_background": "light"
     },
     "output_type": "display_data"
    }
   ],
   "source": [
    "fig, ax = plt.subplots(figsize=(9, 4))\n",
    "data_train.plot(ax=ax, label='train')\n",
    "data_test['Difference'].plot(ax=ax, label='test')\n",
    "data_test['predictions'].plot(ax=ax, label='predictions')\n",
    "ax.legend();"
   ]
  },
  {
   "cell_type": "markdown",
   "id": "5ce2e6a9",
   "metadata": {},
   "source": [
    "We are testing the error"
   ]
  },
  {
   "cell_type": "code",
   "execution_count": 42,
   "id": "dfca5579",
   "metadata": {},
   "outputs": [
    {
     "name": "stdout",
     "output_type": "stream",
     "text": [
      "Test error (mse): 11868.240642807707\n"
     ]
    }
   ],
   "source": [
    "error_mse = mean_squared_error(\n",
    "                y_true = data_test['Difference'],\n",
    "                y_pred = predictions\n",
    "            )\n",
    "\n",
    "print(f\"Test error (mse): {error_mse}\")"
   ]
  },
  {
   "cell_type": "markdown",
   "id": "835b6af2",
   "metadata": {},
   "source": [
    "The mse score is qite high\n",
    "\n",
    "This can be due to the fact that we deindt implement anny external variables"
   ]
  },
  {
   "cell_type": "markdown",
   "id": "3f23c070",
   "metadata": {},
   "source": []
  }
 ],
 "metadata": {
  "kernelspec": {
   "display_name": "Python 3 (ipykernel)",
   "language": "python",
   "name": "python3"
  },
  "language_info": {
   "codemirror_mode": {
    "name": "ipython",
    "version": 3
   },
   "file_extension": ".py",
   "mimetype": "text/x-python",
   "name": "python",
   "nbconvert_exporter": "python",
   "pygments_lexer": "ipython3",
   "version": "3.10.2"
  }
 },
 "nbformat": 4,
 "nbformat_minor": 5
}
