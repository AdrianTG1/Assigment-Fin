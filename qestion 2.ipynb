{
 "cells": [
  {
   "cell_type": "markdown",
   "id": "9b71e1d0",
   "metadata": {},
   "source": [
    "# Time Series in Python"
   ]
  },
  {
   "cell_type": "markdown",
   "id": "15bacf91",
   "metadata": {},
   "source": [
    "We install packages we are going to use"
   ]
  },
  {
   "cell_type": "code",
   "execution_count": 1,
   "id": "0544463a",
   "metadata": {},
   "outputs": [
    {
     "name": "stdout",
     "output_type": "stream",
     "text": [
      "Requirement already satisfied: quandl in /Library/Frameworks/Python.framework/Versions/3.10/lib/python3.10/site-packages (3.7.0)\n",
      "Requirement already satisfied: numpy>=1.8 in /Library/Frameworks/Python.framework/Versions/3.10/lib/python3.10/site-packages (from quandl) (1.22.0)\n",
      "Requirement already satisfied: six in /Library/Frameworks/Python.framework/Versions/3.10/lib/python3.10/site-packages (from quandl) (1.16.0)\n",
      "Requirement already satisfied: more-itertools in /Library/Frameworks/Python.framework/Versions/3.10/lib/python3.10/site-packages (from quandl) (8.13.0)\n",
      "Requirement already satisfied: requests>=2.7.0 in /Library/Frameworks/Python.framework/Versions/3.10/lib/python3.10/site-packages (from quandl) (2.28.1)\n",
      "Requirement already satisfied: pandas>=0.14 in /Library/Frameworks/Python.framework/Versions/3.10/lib/python3.10/site-packages (from quandl) (1.4.0)\n",
      "Requirement already satisfied: python-dateutil in /Library/Frameworks/Python.framework/Versions/3.10/lib/python3.10/site-packages (from quandl) (2.8.2)\n",
      "Requirement already satisfied: inflection>=0.3.1 in /Library/Frameworks/Python.framework/Versions/3.10/lib/python3.10/site-packages (from quandl) (0.5.1)\n",
      "Requirement already satisfied: pytz>=2020.1 in /Library/Frameworks/Python.framework/Versions/3.10/lib/python3.10/site-packages (from pandas>=0.14->quandl) (2022.1)\n",
      "Requirement already satisfied: idna<4,>=2.5 in /Library/Frameworks/Python.framework/Versions/3.10/lib/python3.10/site-packages (from requests>=2.7.0->quandl) (3.3)\n",
      "Requirement already satisfied: certifi>=2017.4.17 in /Library/Frameworks/Python.framework/Versions/3.10/lib/python3.10/site-packages (from requests>=2.7.0->quandl) (2022.6.15)\n",
      "Requirement already satisfied: charset-normalizer<3,>=2 in /Library/Frameworks/Python.framework/Versions/3.10/lib/python3.10/site-packages (from requests>=2.7.0->quandl) (2.1.0)\n",
      "Requirement already satisfied: urllib3<1.27,>=1.21.1 in /Library/Frameworks/Python.framework/Versions/3.10/lib/python3.10/site-packages (from requests>=2.7.0->quandl) (1.26.11)\n",
      "\u001b[33mWARNING: You are using pip version 21.2.4; however, version 22.2.1 is available.\n",
      "You should consider upgrading via the '/usr/local/bin/python3 -m pip install --upgrade pip' command.\u001b[0m\n",
      "Note: you may need to restart the kernel to use updated packages.\n"
     ]
    }
   ],
   "source": [
    "pip install quandl"
   ]
  },
  {
   "cell_type": "code",
   "execution_count": 2,
   "id": "8d56ac16",
   "metadata": {},
   "outputs": [
    {
     "name": "stdout",
     "output_type": "stream",
     "text": [
      "Requirement already satisfied: cryptocompare in /Library/Frameworks/Python.framework/Versions/3.10/lib/python3.10/site-packages (0.7.5)\n",
      "Requirement already satisfied: requests in /Library/Frameworks/Python.framework/Versions/3.10/lib/python3.10/site-packages (from cryptocompare) (2.28.1)\n",
      "Requirement already satisfied: idna<4,>=2.5 in /Library/Frameworks/Python.framework/Versions/3.10/lib/python3.10/site-packages (from requests->cryptocompare) (3.3)\n",
      "Requirement already satisfied: urllib3<1.27,>=1.21.1 in /Library/Frameworks/Python.framework/Versions/3.10/lib/python3.10/site-packages (from requests->cryptocompare) (1.26.11)\n",
      "Requirement already satisfied: certifi>=2017.4.17 in /Library/Frameworks/Python.framework/Versions/3.10/lib/python3.10/site-packages (from requests->cryptocompare) (2022.6.15)\n",
      "Requirement already satisfied: charset-normalizer<3,>=2 in /Library/Frameworks/Python.framework/Versions/3.10/lib/python3.10/site-packages (from requests->cryptocompare) (2.1.0)\n",
      "\u001b[33mWARNING: You are using pip version 21.2.4; however, version 22.2.1 is available.\n",
      "You should consider upgrading via the '/usr/local/bin/python3 -m pip install --upgrade pip' command.\u001b[0m\n",
      "Note: you may need to restart the kernel to use updated packages.\n"
     ]
    }
   ],
   "source": [
    "pip install cryptocompare"
   ]
  },
  {
   "cell_type": "code",
   "execution_count": 3,
   "id": "133e8fa8",
   "metadata": {},
   "outputs": [
    {
     "name": "stdout",
     "output_type": "stream",
     "text": [
      "Requirement already satisfied: matplotlib in /Library/Frameworks/Python.framework/Versions/3.10/lib/python3.10/site-packages (3.5.2)\n",
      "Requirement already satisfied: packaging>=20.0 in /Library/Frameworks/Python.framework/Versions/3.10/lib/python3.10/site-packages (from matplotlib) (21.3)\n",
      "Requirement already satisfied: fonttools>=4.22.0 in /Library/Frameworks/Python.framework/Versions/3.10/lib/python3.10/site-packages (from matplotlib) (4.34.4)\n",
      "Requirement already satisfied: pillow>=6.2.0 in /Library/Frameworks/Python.framework/Versions/3.10/lib/python3.10/site-packages (from matplotlib) (9.2.0)\n",
      "Requirement already satisfied: python-dateutil>=2.7 in /Library/Frameworks/Python.framework/Versions/3.10/lib/python3.10/site-packages (from matplotlib) (2.8.2)\n",
      "Requirement already satisfied: kiwisolver>=1.0.1 in /Library/Frameworks/Python.framework/Versions/3.10/lib/python3.10/site-packages (from matplotlib) (1.4.4)\n",
      "Requirement already satisfied: pyparsing>=2.2.1 in /Library/Frameworks/Python.framework/Versions/3.10/lib/python3.10/site-packages (from matplotlib) (3.0.9)\n",
      "Requirement already satisfied: cycler>=0.10 in /Library/Frameworks/Python.framework/Versions/3.10/lib/python3.10/site-packages (from matplotlib) (0.11.0)\n",
      "Requirement already satisfied: numpy>=1.17 in /Library/Frameworks/Python.framework/Versions/3.10/lib/python3.10/site-packages (from matplotlib) (1.22.0)\n",
      "Requirement already satisfied: six>=1.5 in /Library/Frameworks/Python.framework/Versions/3.10/lib/python3.10/site-packages (from python-dateutil>=2.7->matplotlib) (1.16.0)\n",
      "\u001b[33mWARNING: You are using pip version 21.2.4; however, version 22.2.1 is available.\n",
      "You should consider upgrading via the '/usr/local/bin/python3 -m pip install --upgrade pip' command.\u001b[0m\n",
      "Note: you may need to restart the kernel to use updated packages.\n"
     ]
    }
   ],
   "source": [
    "pip install matplotlib"
   ]
  },
  {
   "cell_type": "markdown",
   "id": "b9f0e77f",
   "metadata": {},
   "source": [
    "We are importing the packages we are going to use "
   ]
  },
  {
   "cell_type": "code",
   "execution_count": 4,
   "id": "6d2f4be6",
   "metadata": {},
   "outputs": [],
   "source": [
    "import cryptocompare\n",
    "import datetime\n",
    "import pandas as pd\n",
    "import quandl\n",
    "import numpy as np\n",
    "import matplotlib.pyplot as plt\n"
   ]
  },
  {
   "cell_type": "markdown",
   "id": "dda55efd",
   "metadata": {},
   "source": [
    "We get the API key from cryptocompare and retrive historical data from Etherium"
   ]
  },
  {
   "cell_type": "code",
   "execution_count": 5,
   "id": "59d7413a",
   "metadata": {},
   "outputs": [
    {
     "data": {
      "text/plain": [
       "'&api_key=49a839b5b7395a830c0a3a61819d8a657950ef22ae68d5e6c1364ccc60117584'"
      ]
     },
     "execution_count": 5,
     "metadata": {},
     "output_type": "execute_result"
    }
   ],
   "source": [
    "cryptocompare.cryptocompare._set_api_key_parameter('49a839b5b7395a830c0a3a61819d8a657950ef22ae68d5e6c1364ccc60117584')"
   ]
  },
  {
   "cell_type": "code",
   "execution_count": 6,
   "id": "b24fc5ad",
   "metadata": {},
   "outputs": [],
   "source": [
    "\n",
    "ETHy = cryptocompare.get_historical_price_day('ETH', 'EUR', limit=24, exchange='CCCAGG', toTs=datetime.datetime(2019,6,6))"
   ]
  },
  {
   "cell_type": "code",
   "execution_count": 7,
   "id": "930c57d7",
   "metadata": {},
   "outputs": [
    {
     "data": {
      "text/plain": [
       "[{'time': 1557619200,\n",
       "  'high': 168.95,\n",
       "  'low': 162.5,\n",
       "  'open': 170.15,\n",
       "  'volumefrom': 5653948.51,\n",
       "  'volumeto': 946132985.27,\n",
       "  'close': 167.34,\n",
       "  'conversionType': 'multiply',\n",
       "  'conversionSymbol': 'BTC'},\n",
       " {'time': 1557705600,\n",
       "  'high': 189.09,\n",
       "  'low': 171.51,\n",
       "  'open': 167.34,\n",
       "  'volumefrom': 5400982.7,\n",
       "  'volumeto': 942475205.13,\n",
       "  'close': 174.5,\n",
       "  'conversionType': 'multiply',\n",
       "  'conversionSymbol': 'BTC'},\n",
       " {'time': 1557792000,\n",
       "  'high': 197.88,\n",
       "  'low': 177.06,\n",
       "  'open': 174.5,\n",
       "  'volumefrom': 6092824.59,\n",
       "  'volumeto': 1182607719.48,\n",
       "  'close': 194.1,\n",
       "  'conversionType': 'multiply',\n",
       "  'conversionSymbol': 'BTC'},\n",
       " {'time': 1557878400,\n",
       "  'high': 223.82,\n",
       "  'low': 198.65,\n",
       "  'open': 194.1,\n",
       "  'volumefrom': 6575907.22,\n",
       "  'volumeto': 1461687523.71,\n",
       "  'close': 222.28,\n",
       "  'conversionType': 'multiply',\n",
       "  'conversionSymbol': 'BTC'},\n",
       " {'time': 1557964800,\n",
       "  'high': 244.76,\n",
       "  'low': 213.79,\n",
       "  'open': 222.28,\n",
       "  'volumefrom': 7377066.74,\n",
       "  'volumeto': 1748374378.06,\n",
       "  'close': 237,\n",
       "  'conversionType': 'multiply',\n",
       "  'conversionSymbol': 'BTC'},\n",
       " {'time': 1558051200,\n",
       "  'high': 223.89,\n",
       "  'low': 208.76,\n",
       "  'open': 237,\n",
       "  'volumefrom': 5291707.52,\n",
       "  'volumeto': 1160638063.26,\n",
       "  'close': 219.33,\n",
       "  'conversionType': 'multiply',\n",
       "  'conversionSymbol': 'BTC'},\n",
       " {'time': 1558137600,\n",
       "  'high': 219,\n",
       "  'low': 209.45,\n",
       "  'open': 219.33,\n",
       "  'volumefrom': 3074321.32,\n",
       "  'volumeto': 648130172.74,\n",
       "  'close': 210.82,\n",
       "  'conversionType': 'multiply',\n",
       "  'conversionSymbol': 'BTC'},\n",
       " {'time': 1558224000,\n",
       "  'high': 237.97,\n",
       "  'low': 232.38,\n",
       "  'open': 210.82,\n",
       "  'volumefrom': 3040455.74,\n",
       "  'volumeto': 710800490.25,\n",
       "  'close': 233.78,\n",
       "  'conversionType': 'multiply',\n",
       "  'conversionSymbol': 'BTC'},\n",
       " {'time': 1558310400,\n",
       "  'high': 231.08,\n",
       "  'low': 223.11,\n",
       "  'open': 233.78,\n",
       "  'volumefrom': 2923763.43,\n",
       "  'volumeto': 661769562.92,\n",
       "  'close': 226.34,\n",
       "  'conversionType': 'multiply',\n",
       "  'conversionSymbol': 'BTC'},\n",
       " {'time': 1558396800,\n",
       "  'high': 233.4,\n",
       "  'low': 225.05,\n",
       "  'open': 226.34,\n",
       "  'volumefrom': 2942581.05,\n",
       "  'volumeto': 672734829.11,\n",
       "  'close': 228.62,\n",
       "  'conversionType': 'multiply',\n",
       "  'conversionSymbol': 'BTC'},\n",
       " {'time': 1558483200,\n",
       "  'high': 223.36,\n",
       "  'low': 215.55,\n",
       "  'open': 228.62,\n",
       "  'volumefrom': 2883661.97,\n",
       "  'volumeto': 631046148.75,\n",
       "  'close': 218.83,\n",
       "  'conversionType': 'multiply',\n",
       "  'conversionSymbol': 'BTC'},\n",
       " {'time': 1558569600,\n",
       "  'high': 226.33,\n",
       "  'low': 216.96,\n",
       "  'open': 218.83,\n",
       "  'volumefrom': 2881253.44,\n",
       "  'volumeto': 633232847.45,\n",
       "  'close': 219.78,\n",
       "  'conversionType': 'multiply',\n",
       "  'conversionSymbol': 'BTC'},\n",
       " {'time': 1558656000,\n",
       "  'high': 226.11,\n",
       "  'low': 221.68,\n",
       "  'open': 219.78,\n",
       "  'volumefrom': 2643933.67,\n",
       "  'volumeto': 589700623.76,\n",
       "  'close': 223.04,\n",
       "  'conversionType': 'multiply',\n",
       "  'conversionSymbol': 'BTC'},\n",
       " {'time': 1558742400,\n",
       "  'high': 230.03,\n",
       "  'low': 224.26,\n",
       "  'open': 223.04,\n",
       "  'volumefrom': 2637221.94,\n",
       "  'volumeto': 594276606.37,\n",
       "  'close': 225.34,\n",
       "  'conversionType': 'multiply',\n",
       "  'conversionSymbol': 'BTC'},\n",
       " {'time': 1558828800,\n",
       "  'high': 244.65,\n",
       "  'low': 235.45,\n",
       "  'open': 225.34,\n",
       "  'volumefrom': 2870058.04,\n",
       "  'volumeto': 687386602.38,\n",
       "  'close': 239.5,\n",
       "  'conversionType': 'multiply',\n",
       "  'conversionSymbol': 'BTC'},\n",
       " {'time': 1558915200,\n",
       "  'high': 246.37,\n",
       "  'low': 238.6,\n",
       "  'open': 239.5,\n",
       "  'volumefrom': 2833209.15,\n",
       "  'volumeto': 688231910.38,\n",
       "  'close': 242.92,\n",
       "  'conversionType': 'multiply',\n",
       "  'conversionSymbol': 'BTC'},\n",
       " {'time': 1559001600,\n",
       "  'high': 246.26,\n",
       "  'low': 239.92,\n",
       "  'open': 242.92,\n",
       "  'volumefrom': 2485168.11,\n",
       "  'volumeto': 604407129.34,\n",
       "  'close': 243.21,\n",
       "  'conversionType': 'multiply',\n",
       "  'conversionSymbol': 'BTC'},\n",
       " {'time': 1559088000,\n",
       "  'high': 244.44,\n",
       "  'low': 240.47,\n",
       "  'open': 243.21,\n",
       "  'volumefrom': 2113498.34,\n",
       "  'volumeto': 512015703.96,\n",
       "  'close': 242.26,\n",
       "  'conversionType': 'multiply',\n",
       "  'conversionSymbol': 'BTC'},\n",
       " {'time': 1559174400,\n",
       "  'high': 246.77,\n",
       "  'low': 222.77,\n",
       "  'open': 242.26,\n",
       "  'volumefrom': 3490610.38,\n",
       "  'volumeto': 800757447.34,\n",
       "  'close': 229.4,\n",
       "  'conversionType': 'multiply',\n",
       "  'conversionSymbol': 'BTC'},\n",
       " {'time': 1559260800,\n",
       "  'high': 240.87,\n",
       "  'low': 232.5,\n",
       "  'open': 229.4,\n",
       "  'volumefrom': 2633020,\n",
       "  'volumeto': 633611625.31,\n",
       "  'close': 240.64,\n",
       "  'conversionType': 'multiply',\n",
       "  'conversionSymbol': 'BTC'},\n",
       " {'time': 1559347200,\n",
       "  'high': 246.85,\n",
       "  'low': 237.24,\n",
       "  'open': 240.64,\n",
       "  'volumefrom': 2219915.89,\n",
       "  'volumeto': 528016261.25,\n",
       "  'close': 237.85,\n",
       "  'conversionType': 'multiply',\n",
       "  'conversionSymbol': 'BTC'},\n",
       " {'time': 1559433600,\n",
       "  'high': 245.59,\n",
       "  'low': 240.96,\n",
       "  'open': 237.85,\n",
       "  'volumefrom': 1620460.57,\n",
       "  'volumeto': 391991934.94,\n",
       "  'close': 241.9,\n",
       "  'conversionType': 'multiply',\n",
       "  'conversionSymbol': 'BTC'},\n",
       " {'time': 1559520000,\n",
       "  'high': 225.37,\n",
       "  'low': 220.08,\n",
       "  'open': 241.9,\n",
       "  'volumefrom': 2244046.91,\n",
       "  'volumeto': 500698752.25,\n",
       "  'close': 223.12,\n",
       "  'conversionType': 'multiply',\n",
       "  'conversionSymbol': 'BTC'},\n",
       " {'time': 1559606400,\n",
       "  'high': 215.61,\n",
       "  'low': 209.53,\n",
       "  'open': 223.12,\n",
       "  'volumefrom': 1991928.16,\n",
       "  'volumeto': 427023083.98,\n",
       "  'close': 214.38,\n",
       "  'conversionType': 'multiply',\n",
       "  'conversionSymbol': 'BTC'},\n",
       " {'time': 1559692800,\n",
       "  'high': 221.27,\n",
       "  'low': 215.01,\n",
       "  'open': 214.38,\n",
       "  'volumefrom': 1662960.5,\n",
       "  'volumeto': 365303989.79,\n",
       "  'close': 219.67,\n",
       "  'conversionType': 'multiply',\n",
       "  'conversionSymbol': 'BTC'}]"
      ]
     },
     "execution_count": 7,
     "metadata": {},
     "output_type": "execute_result"
    }
   ],
   "source": [
    "ETHy"
   ]
  },
  {
   "cell_type": "markdown",
   "id": "eb7371c7",
   "metadata": {},
   "source": [
    "We get the API key from cryptocompare and retrive historical data from Bitcoin"
   ]
  },
  {
   "cell_type": "code",
   "execution_count": 8,
   "id": "97020a02",
   "metadata": {},
   "outputs": [],
   "source": [
    "quandl.ApiConfig.api_key = \"B8Vrxz-sqXP1XcvsMAXs\""
   ]
  },
  {
   "cell_type": "code",
   "execution_count": 9,
   "id": "0be4c59f",
   "metadata": {},
   "outputs": [],
   "source": [
    "mydata2 =  quandl.get(\"BCHAIN/MKPRU\", start_date=\"2019-5-13\", end_date=\"2019-6-6\")\n"
   ]
  },
  {
   "cell_type": "code",
   "execution_count": 10,
   "id": "9912497c",
   "metadata": {},
   "outputs": [
    {
     "data": {
      "text/html": [
       "<div>\n",
       "<style scoped>\n",
       "    .dataframe tbody tr th:only-of-type {\n",
       "        vertical-align: middle;\n",
       "    }\n",
       "\n",
       "    .dataframe tbody tr th {\n",
       "        vertical-align: top;\n",
       "    }\n",
       "\n",
       "    .dataframe thead th {\n",
       "        text-align: right;\n",
       "    }\n",
       "</style>\n",
       "<table border=\"1\" class=\"dataframe\">\n",
       "  <thead>\n",
       "    <tr style=\"text-align: right;\">\n",
       "      <th></th>\n",
       "      <th>Value</th>\n",
       "    </tr>\n",
       "    <tr>\n",
       "      <th>Date</th>\n",
       "      <th></th>\n",
       "    </tr>\n",
       "  </thead>\n",
       "  <tbody>\n",
       "    <tr>\n",
       "      <th>2019-05-13</th>\n",
       "      <td>6978.63</td>\n",
       "    </tr>\n",
       "    <tr>\n",
       "      <th>2019-05-14</th>\n",
       "      <td>7823.11</td>\n",
       "    </tr>\n",
       "    <tr>\n",
       "      <th>2019-05-15</th>\n",
       "      <td>7992.69</td>\n",
       "    </tr>\n",
       "    <tr>\n",
       "      <th>2019-05-16</th>\n",
       "      <td>8206.90</td>\n",
       "    </tr>\n",
       "    <tr>\n",
       "      <th>2019-05-17</th>\n",
       "      <td>7885.96</td>\n",
       "    </tr>\n",
       "    <tr>\n",
       "      <th>2019-05-18</th>\n",
       "      <td>7362.22</td>\n",
       "    </tr>\n",
       "    <tr>\n",
       "      <th>2019-05-19</th>\n",
       "      <td>7265.05</td>\n",
       "    </tr>\n",
       "    <tr>\n",
       "      <th>2019-05-20</th>\n",
       "      <td>8193.70</td>\n",
       "    </tr>\n",
       "    <tr>\n",
       "      <th>2019-05-21</th>\n",
       "      <td>8007.03</td>\n",
       "    </tr>\n",
       "    <tr>\n",
       "      <th>2019-05-22</th>\n",
       "      <td>7952.50</td>\n",
       "    </tr>\n",
       "    <tr>\n",
       "      <th>2019-05-23</th>\n",
       "      <td>7625.93</td>\n",
       "    </tr>\n",
       "    <tr>\n",
       "      <th>2019-05-24</th>\n",
       "      <td>7880.29</td>\n",
       "    </tr>\n",
       "    <tr>\n",
       "      <th>2019-05-25</th>\n",
       "      <td>8003.26</td>\n",
       "    </tr>\n",
       "    <tr>\n",
       "      <th>2019-05-26</th>\n",
       "      <td>8071.45</td>\n",
       "    </tr>\n",
       "    <tr>\n",
       "      <th>2019-05-27</th>\n",
       "      <td>8744.42</td>\n",
       "    </tr>\n",
       "    <tr>\n",
       "      <th>2019-05-28</th>\n",
       "      <td>8770.06</td>\n",
       "    </tr>\n",
       "    <tr>\n",
       "      <th>2019-05-29</th>\n",
       "      <td>8719.88</td>\n",
       "    </tr>\n",
       "    <tr>\n",
       "      <th>2019-05-30</th>\n",
       "      <td>8662.98</td>\n",
       "    </tr>\n",
       "    <tr>\n",
       "      <th>2019-05-31</th>\n",
       "      <td>8272.46</td>\n",
       "    </tr>\n",
       "    <tr>\n",
       "      <th>2019-06-01</th>\n",
       "      <td>8553.81</td>\n",
       "    </tr>\n",
       "    <tr>\n",
       "      <th>2019-06-02</th>\n",
       "      <td>8554.80</td>\n",
       "    </tr>\n",
       "    <tr>\n",
       "      <th>2019-06-03</th>\n",
       "      <td>8739.03</td>\n",
       "    </tr>\n",
       "    <tr>\n",
       "      <th>2019-06-04</th>\n",
       "      <td>8134.92</td>\n",
       "    </tr>\n",
       "    <tr>\n",
       "      <th>2019-06-05</th>\n",
       "      <td>7675.80</td>\n",
       "    </tr>\n",
       "    <tr>\n",
       "      <th>2019-06-06</th>\n",
       "      <td>7786.04</td>\n",
       "    </tr>\n",
       "  </tbody>\n",
       "</table>\n",
       "</div>"
      ],
      "text/plain": [
       "              Value\n",
       "Date               \n",
       "2019-05-13  6978.63\n",
       "2019-05-14  7823.11\n",
       "2019-05-15  7992.69\n",
       "2019-05-16  8206.90\n",
       "2019-05-17  7885.96\n",
       "2019-05-18  7362.22\n",
       "2019-05-19  7265.05\n",
       "2019-05-20  8193.70\n",
       "2019-05-21  8007.03\n",
       "2019-05-22  7952.50\n",
       "2019-05-23  7625.93\n",
       "2019-05-24  7880.29\n",
       "2019-05-25  8003.26\n",
       "2019-05-26  8071.45\n",
       "2019-05-27  8744.42\n",
       "2019-05-28  8770.06\n",
       "2019-05-29  8719.88\n",
       "2019-05-30  8662.98\n",
       "2019-05-31  8272.46\n",
       "2019-06-01  8553.81\n",
       "2019-06-02  8554.80\n",
       "2019-06-03  8739.03\n",
       "2019-06-04  8134.92\n",
       "2019-06-05  7675.80\n",
       "2019-06-06  7786.04"
      ]
     },
     "execution_count": 10,
     "metadata": {},
     "output_type": "execute_result"
    }
   ],
   "source": [
    "mydata2"
   ]
  },
  {
   "cell_type": "markdown",
   "id": "2dde7d06",
   "metadata": {},
   "source": [
    "We make pick the closing price out from the etherium data"
   ]
  },
  {
   "cell_type": "code",
   "execution_count": 11,
   "id": "2d39ba3e",
   "metadata": {},
   "outputs": [],
   "source": [
    "ETH = pd.DataFrame(ETHy)"
   ]
  },
  {
   "cell_type": "code",
   "execution_count": 12,
   "id": "43c06213",
   "metadata": {},
   "outputs": [],
   "source": [
    "Ether = pd.DataFrame(ETH, columns = [\"close\"])"
   ]
  },
  {
   "cell_type": "code",
   "execution_count": 13,
   "id": "29a581dd",
   "metadata": {},
   "outputs": [
    {
     "data": {
      "text/html": [
       "<div>\n",
       "<style scoped>\n",
       "    .dataframe tbody tr th:only-of-type {\n",
       "        vertical-align: middle;\n",
       "    }\n",
       "\n",
       "    .dataframe tbody tr th {\n",
       "        vertical-align: top;\n",
       "    }\n",
       "\n",
       "    .dataframe thead th {\n",
       "        text-align: right;\n",
       "    }\n",
       "</style>\n",
       "<table border=\"1\" class=\"dataframe\">\n",
       "  <thead>\n",
       "    <tr style=\"text-align: right;\">\n",
       "      <th></th>\n",
       "      <th>close</th>\n",
       "    </tr>\n",
       "  </thead>\n",
       "  <tbody>\n",
       "    <tr>\n",
       "      <th>0</th>\n",
       "      <td>167.34</td>\n",
       "    </tr>\n",
       "    <tr>\n",
       "      <th>1</th>\n",
       "      <td>174.50</td>\n",
       "    </tr>\n",
       "    <tr>\n",
       "      <th>2</th>\n",
       "      <td>194.10</td>\n",
       "    </tr>\n",
       "    <tr>\n",
       "      <th>3</th>\n",
       "      <td>222.28</td>\n",
       "    </tr>\n",
       "    <tr>\n",
       "      <th>4</th>\n",
       "      <td>237.00</td>\n",
       "    </tr>\n",
       "    <tr>\n",
       "      <th>5</th>\n",
       "      <td>219.33</td>\n",
       "    </tr>\n",
       "    <tr>\n",
       "      <th>6</th>\n",
       "      <td>210.82</td>\n",
       "    </tr>\n",
       "    <tr>\n",
       "      <th>7</th>\n",
       "      <td>233.78</td>\n",
       "    </tr>\n",
       "    <tr>\n",
       "      <th>8</th>\n",
       "      <td>226.34</td>\n",
       "    </tr>\n",
       "    <tr>\n",
       "      <th>9</th>\n",
       "      <td>228.62</td>\n",
       "    </tr>\n",
       "    <tr>\n",
       "      <th>10</th>\n",
       "      <td>218.83</td>\n",
       "    </tr>\n",
       "    <tr>\n",
       "      <th>11</th>\n",
       "      <td>219.78</td>\n",
       "    </tr>\n",
       "    <tr>\n",
       "      <th>12</th>\n",
       "      <td>223.04</td>\n",
       "    </tr>\n",
       "    <tr>\n",
       "      <th>13</th>\n",
       "      <td>225.34</td>\n",
       "    </tr>\n",
       "    <tr>\n",
       "      <th>14</th>\n",
       "      <td>239.50</td>\n",
       "    </tr>\n",
       "    <tr>\n",
       "      <th>15</th>\n",
       "      <td>242.92</td>\n",
       "    </tr>\n",
       "    <tr>\n",
       "      <th>16</th>\n",
       "      <td>243.21</td>\n",
       "    </tr>\n",
       "    <tr>\n",
       "      <th>17</th>\n",
       "      <td>242.26</td>\n",
       "    </tr>\n",
       "    <tr>\n",
       "      <th>18</th>\n",
       "      <td>229.40</td>\n",
       "    </tr>\n",
       "    <tr>\n",
       "      <th>19</th>\n",
       "      <td>240.64</td>\n",
       "    </tr>\n",
       "    <tr>\n",
       "      <th>20</th>\n",
       "      <td>237.85</td>\n",
       "    </tr>\n",
       "    <tr>\n",
       "      <th>21</th>\n",
       "      <td>241.90</td>\n",
       "    </tr>\n",
       "    <tr>\n",
       "      <th>22</th>\n",
       "      <td>223.12</td>\n",
       "    </tr>\n",
       "    <tr>\n",
       "      <th>23</th>\n",
       "      <td>214.38</td>\n",
       "    </tr>\n",
       "    <tr>\n",
       "      <th>24</th>\n",
       "      <td>219.67</td>\n",
       "    </tr>\n",
       "  </tbody>\n",
       "</table>\n",
       "</div>"
      ],
      "text/plain": [
       "     close\n",
       "0   167.34\n",
       "1   174.50\n",
       "2   194.10\n",
       "3   222.28\n",
       "4   237.00\n",
       "5   219.33\n",
       "6   210.82\n",
       "7   233.78\n",
       "8   226.34\n",
       "9   228.62\n",
       "10  218.83\n",
       "11  219.78\n",
       "12  223.04\n",
       "13  225.34\n",
       "14  239.50\n",
       "15  242.92\n",
       "16  243.21\n",
       "17  242.26\n",
       "18  229.40\n",
       "19  240.64\n",
       "20  237.85\n",
       "21  241.90\n",
       "22  223.12\n",
       "23  214.38\n",
       "24  219.67"
      ]
     },
     "execution_count": 13,
     "metadata": {},
     "output_type": "execute_result"
    }
   ],
   "source": [
    "Ether"
   ]
  },
  {
   "cell_type": "markdown",
   "id": "0a367679",
   "metadata": {},
   "source": [
    "We make the into a list"
   ]
  },
  {
   "cell_type": "code",
   "execution_count": 14,
   "id": "570d3d2e",
   "metadata": {},
   "outputs": [],
   "source": [
    "yt = Ether.values.tolist()\n",
    "xt = mydata2.values.tolist()"
   ]
  },
  {
   "cell_type": "markdown",
   "id": "ccbe50bd",
   "metadata": {},
   "source": [
    "We get the OLS values "
   ]
  },
  {
   "cell_type": "code",
   "execution_count": 15,
   "id": "2f6fa70a",
   "metadata": {},
   "outputs": [],
   "source": [
    "beta = ((np.multiply(yt,xt)).mean()-np.mean(xt)*np.mean(yt))/((np.multiply(xt, xt)).mean()-np.mean(xt)*np.mean(xt))"
   ]
  },
  {
   "cell_type": "code",
   "execution_count": 16,
   "id": "9608e1bc",
   "metadata": {},
   "outputs": [],
   "source": [
    "alpha = np.mean(yt)-beta*np.mean(xt)"
   ]
  },
  {
   "cell_type": "code",
   "execution_count": 17,
   "id": "99dc7b63",
   "metadata": {},
   "outputs": [
    {
     "name": "stdout",
     "output_type": "stream",
     "text": [
      "-21.855999258132584 0.030329245120665625\n"
     ]
    }
   ],
   "source": [
    "print(alpha, beta)"
   ]
  },
  {
   "cell_type": "markdown",
   "id": "73b6cbb3",
   "metadata": {},
   "source": [
    "We are creating arrys"
   ]
  },
  {
   "cell_type": "code",
   "execution_count": 18,
   "id": "d47bd607",
   "metadata": {},
   "outputs": [
    {
     "data": {
      "text/plain": [
       "4105.630068072647"
      ]
     },
     "execution_count": 18,
     "metadata": {},
     "output_type": "execute_result"
    }
   ],
   "source": [
    "y_hat = alpha + np.multiply(beta,xt)\n",
    "L = np.sum(np.multiply(yt-y_hat, yt - y_hat))\n",
    "L"
   ]
  },
  {
   "cell_type": "code",
   "execution_count": 19,
   "id": "5af59d20",
   "metadata": {},
   "outputs": [
    {
     "data": {
      "text/plain": [
       "[<matplotlib.lines.Line2D at 0x130726bc0>]"
      ]
     },
     "execution_count": 19,
     "metadata": {},
     "output_type": "execute_result"
    },
    {
     "data": {
      "image/png": "[encoded data removed]",
      "text/plain": [
       "<Figure size 432x288 with 1 Axes>"
      ]
     },
     "metadata": {
      "needs_background": "light"
     },
     "output_type": "display_data"
    }
   ],
   "source": [
    "plt.plot(xt,yt, 'go')"
   ]
  },
  {
   "cell_type": "markdown",
   "id": "4a63e04b",
   "metadata": {},
   "source": [
    "MSE"
   ]
  },
  {
   "cell_type": "code",
   "execution_count": 20,
   "id": "e4e89be4",
   "metadata": {},
   "outputs": [],
   "source": [
    "def cal_cost(alpha,beta,xt,yt):\n",
    "    n = len(yt)\n",
    "    predictions = alpha + np.multiply(beta, xt)\n",
    "    cost = (1/2*n)*np.sum(np.sum(np.square(predictions-yt)))\n",
    "    return cost"
   ]
  },
  {
   "cell_type": "code",
   "execution_count": 21,
   "id": "744bc0f4",
   "metadata": {},
   "outputs": [
    {
     "data": {
      "text/plain": [
       "51320.37585090809"
      ]
     },
     "execution_count": 21,
     "metadata": {},
     "output_type": "execute_result"
    }
   ],
   "source": [
    "cal_cost(alpha,beta,xt,yt)"
   ]
  },
  {
   "cell_type": "markdown",
   "id": "e3cedd98",
   "metadata": {},
   "source": [
    "Gradient Descent"
   ]
  },
  {
   "cell_type": "code",
   "execution_count": 28,
   "id": "382c40a4",
   "metadata": {},
   "outputs": [
    {
     "data": {
      "text/plain": [
       "[<matplotlib.lines.Line2D at 0x130b8b880>]"
      ]
     },
     "execution_count": 28,
     "metadata": {},
     "output_type": "execute_result"
    },
    {
     "data": {
      "image/png": "[encoded data removed]",
      "text/plain": [
       "<Figure size 432x288 with 1 Axes>"
      ]
     },
     "metadata": {
      "needs_background": "light"
     },
     "output_type": "display_data"
    }
   ],
   "source": [
    "iterations = 1000\n",
    "alpha = -21\n",
    "\n",
    "loss_history = np.zeros((iterations,1))\n",
    "alpha_history = np.zeros((iterations,1))\n",
    "\n",
    "for i in range(iterations):\n",
    "    alpha = alpha +1\n",
    "    \n",
    "    loss_history[i] = cal_cost(alpha,beta,xt,yt)\n",
    "    alpha_history[i] = alpha\n",
    "    \n",
    "plt.plot(alpha_history,loss_history,'go')"
   ]
  },
  {
   "cell_type": "code",
   "execution_count": 29,
   "id": "d8df6664",
   "metadata": {},
   "outputs": [],
   "source": [
    "xt = xt/(np.max(xt))"
   ]
  },
  {
   "cell_type": "code",
   "execution_count": 32,
   "id": "79fc5b21",
   "metadata": {},
   "outputs": [],
   "source": [
    "iterations = 500\n",
    "learningrate = 0.01\n",
    "alpha = 0\n",
    "beta = 0\n",
    "n = len(yt)\n",
    "index = np.arange(1, iterations+1, 1).reshape((iterations, 1))\n",
    "\n",
    "loss_history = np.zeros((iterations,1))\n",
    "alpha_history = np.zeros((iterations,1))\n",
    "beta_history = np.zeros((iterations,1))\n",
    "\n",
    "for i in range(iterations):\n",
    "       \n",
    "        prediction = alpha + np.multiply(beta,xt)\n",
    "        residuals = yt-prediction\n",
    "        residuals_sum = sum(residuals)\n",
    "        alpha_gradient = -(1/n)*residuals_sum*(learningrate)\n",
    "        alpha = alpha - alpha_gradient\n",
    "        alpha_history[i] = alpha\n",
    "    \n",
    "        residuals_x = np.multiply(residuals,xt)\n",
    "        residuals_x_sum = sum(residuals_x)\n",
    "        beta_gradient = -(1/n)*residuals_x_sum*(learningrate)\n",
    "        beta = beta - beta_gradient\n",
    "        beta_history[i] = beta\n",
    "    \n",
    "        loss_history[i] = cal_cost(alpha,beta,xt,yt)"
   ]
  },
  {
   "cell_type": "code",
   "execution_count": 33,
   "id": "cdfee974",
   "metadata": {},
   "outputs": [
    {
     "data": {
      "text/plain": [
       "[<matplotlib.lines.Line2D at 0x130d53e20>]"
      ]
     },
     "execution_count": 33,
     "metadata": {},
     "output_type": "execute_result"
    },
    {
     "data": {
      "image/png": "[encoded data removed]",
      "text/plain": [
       "<Figure size 432x288 with 3 Axes>"
      ]
     },
     "metadata": {
      "needs_background": "light"
     },
     "output_type": "display_data"
    }
   ],
   "source": [
    "plt.subplot(311)\n",
    "plt.plot(index, alpha_history,'go')\n",
    "plt.subplot(312)\n",
    "plt.plot(index, beta_history,'go')\n",
    "plt.subplot(313)\n",
    "plt.plot(index, loss_history,'go')"
   ]
  },
  {
   "cell_type": "code",
   "execution_count": 26,
   "id": "c5a9f4be",
   "metadata": {},
   "outputs": [
    {
     "data": {
      "text/plain": [
       "51320.54424401061"
      ]
     },
     "execution_count": 26,
     "metadata": {},
     "output_type": "execute_result"
    }
   ],
   "source": [
    "cal_cost(alpha,beta,xt,yt)"
   ]
  },
  {
   "cell_type": "markdown",
   "id": "f3d81fe6",
   "metadata": {},
   "source": [
    "aplha and beta"
   ]
  },
  {
   "cell_type": "code",
   "execution_count": 34,
   "id": "42f51d72",
   "metadata": {},
   "outputs": [
    {
     "name": "stdout",
     "output_type": "stream",
     "text": [
      "[119.60881068] [112.56119777]\n"
     ]
    }
   ],
   "source": [
    "print(alpha, beta)"
   ]
  }
 ],
 "metadata": {
  "kernelspec": {
   "display_name": "Python 3 (ipykernel)",
   "language": "python",
   "name": "python3"
  },
  "language_info": {
   "codemirror_mode": {
    "name": "ipython",
    "version": 3
   },
   "file_extension": ".py",
   "mimetype": "text/x-python",
   "name": "python",
   "nbconvert_exporter": "python",
   "pygments_lexer": "ipython3",
   "version": "3.10.2"
  }
 },
 "nbformat": 4,
 "nbformat_minor": 5
}
